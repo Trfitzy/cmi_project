{
  "nbformat": 4,
  "nbformat_minor": 0,
  "metadata": {
    "colab": {
      "provenance": [],
      "collapsed_sections": [
        "LcPLTAVfqTJA",
        "fSks4UMx17o0",
        "sLit_0Bxqxo_"
      ],
      "authorship_tag": "ABX9TyNX0FGc4PusLdHTIqsazDAO",
      "include_colab_link": true
    },
    "kernelspec": {
      "name": "python3",
      "display_name": "Python 3"
    },
    "language_info": {
      "name": "python"
    }
  },
  "cells": [
    {
      "cell_type": "markdown",
      "metadata": {
        "id": "view-in-github",
        "colab_type": "text"
      },
      "source": [
        "<a href=\"https://colab.research.google.com/github/Trfitzy/cmi_project/blob/main/DNN_cmi.ipynb\" target=\"_parent\"><img src=\"https://colab.research.google.com/assets/colab-badge.svg\" alt=\"Open In Colab\"/></a>"
      ]
    },
    {
      "cell_type": "code",
      "execution_count": 4,
      "metadata": {
        "id": "fMlgyJkZpXWC"
      },
      "outputs": [],
      "source": [
        "import pandas as pd\n",
        "import random\n",
        "import time\n",
        "import numpy as np\n",
        "import polars as pl\n",
        "#import keras\n",
        "from tensorflow import keras\n",
        "import matplotlib.pyplot as plt\n",
        "from datetime import datetime\n",
        "from sklearn.preprocessing import LabelBinarizer\n",
        "from sklearn.metrics import average_precision_score, precision_recall_curve, PrecisionRecallDisplay, f1_score, roc_auc_score, roc_curve, RocCurveDisplay\n",
        "from collections import Counter"
      ]
    },
    {
      "cell_type": "markdown",
      "source": [
        "# Models"
      ],
      "metadata": {
        "id": "WC2nCKnXpcqH"
      }
    },
    {
      "cell_type": "markdown",
      "source": [
        "## Functions"
      ],
      "metadata": {
        "id": "LcPLTAVfqTJA"
      }
    },
    {
      "cell_type": "code",
      "source": [
        "class TimeCallback(keras.callbacks.Callback):\n",
        "    def on_epoch_begin(self, epoch, logs=None):\n",
        "        epoch_begin = datetime.now().strftime(\"%Y-%m-%d %H:%M:%S\")\n",
        "        print(\"{time} ---\".format(time=epoch_begin),end=(\"\"))"
      ],
      "metadata": {
        "id": "2dTXcYMutO2z"
      },
      "execution_count": 5,
      "outputs": []
    },
    {
      "cell_type": "code",
      "source": [
        "def get_data(filepath):\n",
        "    data = pl.read_csv(filepath+\"train.csv\")\n",
        "\n",
        "\n",
        "    # Split test and train based on unique sequence ids\n",
        "    random.seed(time.time())\n",
        "    sequence_ids = list(data['sequence_id'].unique())\n",
        "    test_num = int(len(sequence_ids)*.2)\n",
        "    train_ids = []\n",
        "    test_ids = []\n",
        "    for seq_id in random.sample(sequence_ids, len(sequence_ids)):\n",
        "        if len(train_ids) <= test_num:\n",
        "            train_ids.append(seq_id)\n",
        "        else:\n",
        "           test_ids.append(seq_id)\n",
        "\n",
        "    return train_ids, test_ids, data"
      ],
      "metadata": {
        "id": "_3WOvcaVqEWJ"
      },
      "execution_count": 6,
      "outputs": []
    },
    {
      "cell_type": "code",
      "source": [
        "def get_data(filepath):\n",
        "    data = pl.read_csv(filepath+\"train.csv\")\n",
        "\n",
        "\n",
        "    # Split test and train based on unique sequence ids\n",
        "    random.seed(time.time())\n",
        "    sequence_ids = list(data['sequence_id'].unique())\n",
        "    test_num = int(len(sequence_ids)*.2)\n",
        "    train_ids = []\n",
        "    test_ids = []\n",
        "    for seq_id in random.sample(sequence_ids, len(sequence_ids)):\n",
        "        if len(train_ids) <= test_num:\n",
        "            train_ids.append(seq_id)\n",
        "        else:\n",
        "           test_ids.append(seq_id)\n",
        "\n",
        "    return train_ids, test_ids, data"
      ],
      "metadata": {
        "id": "M0gzjTxBqXCE"
      },
      "execution_count": 7,
      "outputs": []
    },
    {
      "cell_type": "code",
      "source": [
        "#----------------------------------------------------------------------------\n",
        "# Pre-process Data\n",
        "#----------------------------------------------------------------------------\n",
        "\"\"\"\n",
        "Preprocessing\n",
        "X 1. Remove columns that are not numerical or are missing too much data\n",
        "X 2. Remove outliers by adding floors or ceilings to several columns\n",
        "X 3. Adjust for skewusing the following methods;\n",
        "    i. log\n",
        "    ii. square root\n",
        "    iii. cube root\n",
        "    iv. cubed\n",
        "    v. inverse\n",
        "4. Normalize with the z-score\n",
        "XNow all data is between -4 and 4\n",
        "----------------------------------------------------------------------------\n",
        "\"\"\"\n",
        "def pre_process(df, target_param, method='zscore') -> pd.DataFrame:\n",
        "    \"\"\"\n",
        "    This function preprocesses the data before it is used in the model.\n",
        "    Input:  df - (DataFrame) raw data\n",
        "    Output: df_norm - (DataFrame) processed data\n",
        "\n",
        "    It should return a data_dic with dfs: X_train, Y_train, X_val, & Y_val. The X dfs should have the train\n",
        "    features and the Y dfs should have the target_param\n",
        "\n",
        "    - Normalize training data, and replace needed tof values\n",
        "    - Repalce target parameter data\n",
        "    - Split the data 80/20 into train/val\n",
        "    - Split train and val into X and Y dfs\n",
        "    - Need to keep sequence_id in all dfs so that we can split by this.\n",
        "    \"\"\"\n",
        "\n",
        "    data_dic = {}\n",
        "    df[]\n",
        "\n",
        "    # Normalize (min_max) and replace training data\n",
        "    train_features = ['acc_x', 'acc_y', 'acc_z', 'rot_w', 'rot_x', 'rot_y', 'rot_z', 'thm_1', 'thm_2', 'thm_3', 'thm_4', 'thm_5']\n",
        "    tof_sensors = []\n",
        "    for sensor_num in range(1,6):\n",
        "        for pix_num in range(0,64):\n",
        "            tof_sensors.append('tof_'+str(sensor_num)+'_v'+str(pix_num)) # sensor_num: 1-5, pix_num:, 0-63\n",
        "\n",
        "\n",
        "\n",
        "    # Add in sequence id for later use\n",
        "    # TODO: Should we include the other reference info?\n",
        "    df_norm['sequence_id'] = df['sequence_id']\n",
        "\n",
        "    return df_norm"
      ],
      "metadata": {
        "colab": {
          "base_uri": "https://localhost:8080/",
          "height": 106
        },
        "id": "36ZaqDdgqZyI",
        "outputId": "e0a174b2-b5b6-47b1-8188-531aaf787181"
      },
      "execution_count": 8,
      "outputs": [
        {
          "output_type": "error",
          "ename": "SyntaxError",
          "evalue": "invalid syntax (ipython-input-8-1514708613.py, line 35)",
          "traceback": [
            "\u001b[0;36m  File \u001b[0;32m\"/tmp/ipython-input-8-1514708613.py\"\u001b[0;36m, line \u001b[0;32m35\u001b[0m\n\u001b[0;31m    df[]\u001b[0m\n\u001b[0m       ^\u001b[0m\n\u001b[0;31mSyntaxError\u001b[0m\u001b[0;31m:\u001b[0m invalid syntax\n"
          ]
        }
      ]
    },
    {
      "cell_type": "code",
      "source": [
        "def fit_n_assess_model(nmodel, model_info, data):\n",
        "    print(nmodel.summary())\n",
        "\n",
        "    X_train = data['X_train']\n",
        "    y_train = data['y_train']\n",
        "    X_test = data['X_test']\n",
        "    y_test = data['y_test']\n",
        "\n",
        "    start = datetime.now()\n",
        "\n",
        "    # Compile model with MSR as the loss function and SGD as the optimizer\n",
        "    nmodel.compile(loss=model_info['loss'], optimizer=model_info['optimizer'], metrics=[\"accuracy\"])\n",
        "\n",
        "    print(\"Fit model\")\n",
        "    # Fit the model with the training data from the data dictionary.\n",
        "    nhist1 = nmodel.fit(x = X_train, y = y_train, epochs=model_info['epochs'],\n",
        "                        callbacks=[TimeCallback()],\n",
        "                        validation_split=0.2,)\n",
        "\n",
        "    stop = datetime.now()\n",
        "    model_info['tdelta'] = str(stop-start)\n",
        "    print(\"Runtime: \", str(stop-start))\n",
        "\n",
        "    print(\"Evaluate model\")\n",
        "    model_info['test_accuracy'] = str(round(nmodel.evaluate(X_test, y_test, verbose=True)[1],4))\n",
        "    print(\"Test accuracy: \",model_info['test_accuracy'])\n",
        "\n",
        "\n",
        "    plot_model_loss(model_info, nhist1.history, title=nmodel.name)\n",
        "    print(\"Loss and accuracy plots saved.\")\n",
        "    return nhist1"
      ],
      "metadata": {
        "id": "OFUxhFP7qd58"
      },
      "execution_count": null,
      "outputs": []
    },
    {
      "cell_type": "code",
      "source": [
        "def test_model(nmodel, X_test, y_test):\n",
        "  # This function gets a prediction for the test data and then finds and prints\n",
        "  #   the following:\n",
        "  #     - f1_score\n",
        "  #     - auc\n",
        "  #     - roc curve\n",
        "  #     - precision & recall plots\n",
        "  # Input:  nmodel - (keras model) trained model\n",
        "  #         X_test - (array) contains input values for testing the model\n",
        "  #         y_test - (array) contains true answers for test values\n",
        "  # Output: None\n",
        "\n",
        "  # Make predictions on X test data\n",
        "  y_pred = nmodel.predict(X_test, batch_size=None, steps=None, callbacks=None)\n",
        "\n",
        "  # Calculate f1 score & auc\n",
        "  f1 = f1_score(y_test, np.argmax(y_pred, axis=1), average='micro')\n",
        "  auc = np.round(roc_auc_score(y_test, y_pred, multi_class='ovr'), 3)\n",
        "\n",
        "  print(\"f1_score for our sample data is {}\".format(f1))\n",
        "  print(\"Auc for our sample data is {}\".format(auc))\n",
        "\n",
        "  # Modify multi-class y values to a binary class for each multi-class (One Hot Encoding)\n",
        "  y_onehot_test = LabelBinarizer().fit_transform(y_test)\n",
        "\n",
        "  # Get plots for the rest of the metrics\n",
        "  roc_curve(y_onehot_test, y_pred, nmodel.name)\n",
        "  print(\"Roc curve plot saved\")\n",
        "  recall_prec_plots(y_onehot_test, y_pred, nmodel.name)\n",
        "  print(\"Precision and recall curve plots saved\")\n",
        "\n",
        "#---------------------------------------------------------------------------------------\n",
        "# Plotting functions\n",
        "# TODO: need to save to a file instead of showing plots\n",
        "#------------------------------------------------------------------------------------\n",
        "\n",
        "def roc_curve(y_onehot_test, y_score, title):\n",
        "    # This function creates the roc curve\n",
        "    # Input:  y_onehot_test - (array) contains true answers for test values, one hot encoded\n",
        "    #         y_score - (array) contains predicted probabilities for answers to test values\n",
        "    # Output: None\n",
        "    fig, ax = plt.subplots(figsize=(6, 6))\n",
        "\n",
        "    for class_id in range(10):\n",
        "        RocCurveDisplay.from_predictions(\n",
        "            y_onehot_test[:, class_id],\n",
        "            y_score[:, class_id],\n",
        "            name=f\"ROC curve for {class_id}\",\n",
        "            ax=ax,\n",
        "            plot_chance_level=(class_id == 9),\n",
        "        )\n",
        "\n",
        "    _ = ax.set(\n",
        "        xlabel=\"False Positive Rate\",\n",
        "        ylabel=\"True Positive Rate\",\n",
        "        title=\"MNIST classification\\nto One-vs-Rest multiclass\",\n",
        "    )\n",
        "\n",
        "    filename = title+\"_roc_curve.png\"\n",
        "    plt.savefig(\"./plots/\"+filename)\n",
        "    plt.clf()\n",
        "\n",
        "def recall_prec_plots(y_test, y_score, title):\n",
        "    # This function creates the recall-precision curves\n",
        "    # Input:  y_onehot_test - (array) contains true answers for test values, one hot encoded\n",
        "    #         y_score - (array) contains predicted probabilities for answers to test values\n",
        "    # Output: None\n",
        "\n",
        "    # For each class\n",
        "    precision = dict()\n",
        "    recall = dict()\n",
        "    threshold = dict()\n",
        "    average_precision = dict()\n",
        "\n",
        "    for i in range(10):\n",
        "        precision[i], recall[i], threshold[i] = precision_recall_curve(y_test[:,i], y_score[:, i])\n",
        "        average_precision[i] = average_precision_score(y_test[:,i], y_score[:, i])\n",
        "\n",
        "    # A \"micro-average\": quantifying score on all classes jointly\n",
        "    precision[\"micro\"], recall[\"micro\"], threshold['micro'] = precision_recall_curve(\n",
        "        y_test.ravel(), y_score.ravel()\n",
        "    )\n",
        "    average_precision[\"micro\"] = average_precision_score(y_test, y_score, average=\"micro\")\n",
        "\n",
        "    display = PrecisionRecallDisplay(\n",
        "        recall=recall[\"micro\"],\n",
        "        precision=precision[\"micro\"],\n",
        "        average_precision=average_precision[\"micro\"],\n",
        "        prevalence_pos_label=Counter(y_test.ravel())[1] / y_test.size,\n",
        "    )\n",
        "    display.plot(plot_chance_level=True)\n",
        "\n",
        "    filename = title+\"_avg_precision.png\"\n",
        "    plt.savefig(\"./plots/\"+filename)\n",
        "    plt.clf()\n",
        "\n",
        "    _ = display.ax_.set_title(\"Micro-averaged over all classes\")\n",
        "\n",
        "    _, ax = plt.subplots(figsize=(7, 8))\n",
        "\n",
        "    f_scores = np.linspace(0.2, 0.8, num=4)\n",
        "    lines, labels = [], []\n",
        "    for f_score in f_scores:\n",
        "        x = np.linspace(0.01, 1)\n",
        "        y = f_score * x / (2 * x - f_score)\n",
        "        (l,) = plt.plot(x[y >= 0], y[y >= 0], color=\"gray\", alpha=0.2)\n",
        "        plt.annotate(\"f1={0:0.1f}\".format(f_score), xy=(0.9, y[45] + 0.02))\n",
        "\n",
        "    display = PrecisionRecallDisplay(\n",
        "        recall=recall[\"micro\"],\n",
        "        precision=precision[\"micro\"],\n",
        "        average_precision=average_precision[\"micro\"],\n",
        "    )\n",
        "    display.plot(ax=ax, name=\"Micro-average precision-recall\", color=\"gold\")\n",
        "\n",
        "    for i in range(10):\n",
        "        display = PrecisionRecallDisplay(\n",
        "            recall=recall[i],\n",
        "            precision=precision[i],\n",
        "            average_precision=average_precision[i],\n",
        "        )\n",
        "        display.plot(ax=ax, name=f\"Precision-recall for class {i}\")\n",
        "\n",
        "    # add the legend for the iso-f1 curves\n",
        "    handles, labels = display.ax_.get_legend_handles_labels()\n",
        "    handles.extend([l])\n",
        "    labels.extend([\"iso-f1 curves\"])\n",
        "    # set the legend and the axes\n",
        "    ax.legend(handles=handles, labels=labels, loc=\"best\")\n",
        "    ax.set_title(\"Extension of Precision-Recall curve to multi-class\")\n",
        "\n",
        "    filename = title+\"_precision_recall_curve\"\n",
        "    plt.savefig(\"./plots/\"+filename)\n",
        "    plt.clf()\n",
        "    #plt.show()\n",
        "    #return precision, recall, threshold, average_precision\n",
        "\n",
        "def plot_model_loss(model_info, hist, title=\"model loss\"):\n",
        "    # This function creates the train & validation loss comparison plots and saves them to a file\n",
        "    #\n",
        "    # Output: None\n",
        "\n",
        "    train_loss = hist['loss']\n",
        "    val_loss = hist['val_loss']\n",
        "    train_acc = hist['accuracy']\n",
        "    val_acc = hist['val_accuracy']\n",
        "\n",
        "    fig = plt.figure(figsize=(10, 8))\n",
        "    ax1 = fig.add_subplot(2,1,1)\n",
        "\n",
        "    ax1.plot(range(0,model_info['epochs']),train_loss, label=\"training set\")\n",
        "    ax1.plot(range(0,model_info['epochs']),val_loss, label=\"validation set\")\n",
        "    ax1.set_ylabel(model_info['loss'].name)\n",
        "    ax1.legend(loc=\"upper right\")\n",
        "\n",
        "    ax2 = fig.add_subplot(2,1,2)\n",
        "    ax2.plot(range(0,model_info['epochs']), train_acc, label=\"training set\")\n",
        "    ax2.plot(range(0,model_info['epochs']), val_acc, label=\"validation set\")\n",
        "    ax2.set_ylabel('Accuracy')\n",
        "    ax2.legend(loc=\"upper right\")\n",
        "    ax2.set_ylabel('Epoch')\n",
        "\n",
        "    plot_title = title+\" \\n(\"\n",
        "    cnt = 0\n",
        "    for key, value in model_info.items():\n",
        "      if key != 'loss':\n",
        "        if key == \"optimizer\":\n",
        "          if type(value) != str:\n",
        "            value = value.name\n",
        "        plot_title += key + \": \"+ str(value) + \", \"\n",
        "        cnt += 1\n",
        "        if cnt == 4:\n",
        "          plot_title += \"\\n\"\n",
        "          cnt = 0\n",
        "    plot_title += \")\"\n",
        "\n",
        "    fig.suptitle(plot_title, y=1.02, fontsize=12)\n",
        "    plt.tight_layout()\n",
        "    #plt.show()\n",
        "\n",
        "    filename = title+\"_loss_accuracy.png\"\n",
        "    fig.savefig(\"./plots/\"+filename, bbox_inches='tight')\n",
        "    plt.clf()\n",
        "\n",
        "def vis_output(inputs, outputs, image, title):\n",
        "    # redefine mode to output right after the first hidden layer\n",
        "    nLayer = keras.Model(inputs = inputs, outputs = outputs)\n",
        "    #nLayer.summary()\n",
        "\n",
        "    # get feature map for 1st layer\n",
        "    feature_maps = nLayer.predict(image)\n",
        "\n",
        "    out_size = feature_maps.shape[-1]\n",
        "    if round(out_size/4) != (out_size/4):\n",
        "        print(\"Size not div by 4: \",out_size)\n",
        "    elif len(feature_maps.shape) < 4:\n",
        "        print(\"Feature map too small for images: \",feature_maps.shape)\n",
        "    else:\n",
        "\n",
        "        # plot maps\n",
        "        for n in range(out_size):\n",
        "            ax = plt.subplot(int(out_size/4), 4, n+1)\n",
        "            plt.imshow(feature_maps[0, :, :, n], cmap='gray')\n",
        "        #plt.show()\n",
        "\n",
        "def all_vis_output(nmodel, image, title, n_layers='all'):\n",
        "\n",
        "    if n_layers == \"all\":\n",
        "       n_layers = len(nmodel.layers)\n",
        "\n",
        "    filename = title+\"_image.png\"\n",
        "    plt.imsave(\"./plots/\"+filename, image, cmap='gray')\n",
        "    #plt.show()\n",
        "    plt.clf()\n",
        "\n",
        "    for n in range(n_layers):\n",
        "        vis_output(nmodel.inputs, nmodel.layers[n].output, np.expand_dims(image, axis=0), title)"
      ],
      "metadata": {
        "id": "Syz-n4rGqhWa"
      },
      "execution_count": null,
      "outputs": []
    },
    {
      "cell_type": "markdown",
      "source": [
        "# Main"
      ],
      "metadata": {
        "id": "LltzPLEn14IK"
      }
    },
    {
      "cell_type": "code",
      "source": [
        "\n",
        "# Main\n",
        "## Pull in & Preprocess Data\n",
        "filepath = \"C:/Users/trfit/OneDrive/Documents/learning/UC/cmi_project/cmi-detect-behavior-with-sensor-data/\"\n",
        "filepath = \"/content/\"\n",
        "\n",
        "\n",
        "#train_features = ['acc_x', 'acc_y', 'acc_z', 'rot_w', 'rot_x', 'rot_y', 'rot_z', 'thm_1', 'thm_2', 'thm_3', 'thm_4', 'thm_5']\n",
        "train_features = []\n",
        "for sensor_num in range(1,6): # sensor_num: 1-5, pix_num:, 0-63\n",
        "        for pix_num in range(0,64):\n",
        "            train_features.append('tof_'+str(sensor_num)+'_v'+str(pix_num))\n",
        "\n",
        "print(\"Inital parameters defined. Start pulling data...\")\n",
        "\n",
        "train_ids, test_ids, data = get_data(filepath)\n",
        "\n",
        "print(\"Data pulled. Start data cleaning...\")\n",
        "\n",
        "# Remove null values\n",
        "data = data.drop_nulls()\n",
        "\n",
        "# Normalize data\n",
        "train_features_norm = []\n",
        "for feature in train_features:\n",
        "    train_features_norm.append(feature+\"_norm\")\n",
        "    if 'tof_' in feature:\n",
        "        data = data.with_columns(pl.col(feature).replace(-1, 256))\n",
        "        data = data.with_columns((pl.col(feature)/253).alias(feature+\"_norm\"))\n",
        "    else:\n",
        "        data = data.with_columns(\n",
        "            ((pl.col(feature)-pl.col(feature).min())/\n",
        "             (pl.col(feature).max()-pl.col(feature).min())\n",
        "            ).alias(feature+\"_norm\"))\n",
        "\n",
        "print(\"Data cleaned.\")\n",
        "\n"
      ],
      "metadata": {
        "colab": {
          "base_uri": "https://localhost:8080/"
        },
        "id": "88hlBM71qFoS",
        "outputId": "65e10d60-d1de-4e06-feed-b98b0f078016"
      },
      "execution_count": 10,
      "outputs": [
        {
          "output_type": "stream",
          "name": "stdout",
          "text": [
            "Inital parameters defined. Start pulling data...\n",
            "Data pulled. Start data cleaning...\n",
            "Data cleaned.\n"
          ]
        }
      ]
    },
    {
      "cell_type": "markdown",
      "source": [
        "## Model: DNN_1\n",
        "\n",
        "\n"
      ],
      "metadata": {
        "id": "fSks4UMx17o0"
      }
    },
    {
      "cell_type": "markdown",
      "source": [
        "Notes:\n",
        "- DNN w/ sequence_type as target:\n",
        "  Fit model\n",
        "\n",
        " - 2025-07-07 17:00:41 ---Epoch 1/5\n",
        " - 584/584 ━━━━━━━━━━━━━━━━━━━━ 6s 6ms/step - accuracy: 0.5886 - loss: 0.- 8050 - val_accuracy: 0.6452 - val_loss: 0.6265\n",
        " 2025-07-07 17:00:47 ---Epoch 2/5\n",
        "584/584 ━━━━━━━━━━━━━━━━━━━━ 3s 6ms/step - accuracy: 0.6734 - loss: 0.5523 - val_accuracy: 0.6272 - val_loss: 0.6298\n",
        "2025-07-07 17:00:50 ---Epoch 3/5\n",
        "584/584 ━━━━━━━━━━━━━━━━━━━━ 6s 7ms/step - accuracy: 0.7122 - loss: 0.5197 - val_accuracy: 0.6495 - val_loss: 0.6019\n",
        "2025-07-07 17:00:57 ---Epoch 4/5\n",
        "584/584 ━━━━━━━━━━━━━━━━━━━━ 3s 6ms/step - accuracy: 0.7248 - loss: 0.4966 - val_accuracy: 0.6290 - val_loss: 0.6414\n",
        "2025-07-07 17:01:00 ---Epoch 5/5\n",
        "584/584 ━━━━━━━━━━━━━━━━━━━━ 3s 6ms/step - accuracy: 0.7357 - loss: 0.4844 - val_accuracy: 0.6397 - val_loss: 0.6688\n",
        "Runtime:  0:00:22.304905\n",
        "Evaluate model\n",
        "2888/2888 ━━━━━━━━━━━━━━━━━━━━ 8s 3ms/step - accuracy: 0.6512 - loss: 0.6095\n",
        "\n",
        "  - Test accuracy:  0.6682"
      ],
      "metadata": {
        "id": "rDOtuz3Iqz2Z"
      }
    },
    {
      "cell_type": "code",
      "source": [
        "target_param = 'sequence_type'\n",
        "\n",
        "# Prep target data\n",
        "target_uniq = data[target_param].unique()\n",
        "data = data.with_columns(target=pl.col(target_param).replace(target_uniq, [x for x in range(len(target_uniq))]).cast(pl.Int8))\n",
        "\n",
        "# Create train and test dataframes\n",
        "X_train = (data.filter(pl.col(\"sequence_id\").is_in(train_ids)).select(train_features_norm))\n",
        "y_train = (data.filter(pl.col(\"sequence_id\").is_in(train_ids)).select('target'))\n",
        "X_test = (data.filter(pl.col(\"sequence_id\").is_in(test_ids)).select(train_features_norm))\n",
        "y_test = (data.filter(pl.col(\"sequence_id\").is_in(test_ids)).select('target'))\n",
        "\n",
        "data_dic = {\n",
        "    'X_train': X_train,\n",
        "    'y_train': y_train,\n",
        "    'X_test': X_test,\n",
        "    'y_test': y_test\n",
        "}\n"
      ],
      "metadata": {
        "id": "CYH4Akwr2oVr"
      },
      "execution_count": 59,
      "outputs": []
    },
    {
      "cell_type": "code",
      "source": [
        "## Model\n",
        "model_info = {\n",
        "        'epochs': 5,\n",
        "        'learning_rate': 0.01,\n",
        "        'loss':  keras.losses.SparseCategoricalCrossentropy(), # multiclass crossentropy\n",
        "        \"activation\": 'relu',\n",
        "        \"final_activation\": 'softmax',\n",
        "}\n",
        "\n",
        "model_info[\"optimizer\"] = keras.optimizers.Adam(learning_rate=model_info['learning_rate'])\n",
        "\n",
        "model = keras.Sequential(\n",
        "            [\n",
        "                keras.Input(shape=(320,)),\n",
        "               # keras.layers.Flatten(),\n",
        "               # keras.layers.Dense(512, activation=model_info['activation']),\n",
        "                keras.layers.Dense(256, activation=model_info['activation']),\n",
        "                keras.layers.Dense(128, activation=model_info['activation']),\n",
        "                keras.layers.Dense(32, activation=model_info['activation']),\n",
        "                #keras.layers.Dense(10, activation=model_info['final_activation']),\n",
        "            ],\n",
        "            name = 'DNN-cmi'\n",
        "            )"
      ],
      "metadata": {
        "id": "wYTfuXWorNbH"
      },
      "execution_count": 44,
      "outputs": []
    },
    {
      "cell_type": "code",
      "source": [
        "#fit_n_assess_model(nmodel, model_info, data):\n",
        "nmodel = model\n",
        "#data = data_dic\n",
        "print(nmodel.summary())\n",
        "\n",
        "X_train = np.asarray(data_dic['X_train'])\n",
        "y_train = np.asarray(data_dic['y_train'])\n",
        "X_test = np.asarray(data_dic['X_test'])\n",
        "y_test = np.asarray(data_dic['y_test'])\n",
        "\n",
        "start = datetime.now()\n",
        "\n",
        "# Compile model with MSR as the loss function and SGD as the optimizer\n",
        "nmodel.compile(loss=model_info['loss'], optimizer=model_info['optimizer'], metrics=[\"accuracy\"])\n",
        "\n",
        "print(\"Fit model\")\n",
        "# Fit the model with the training data from the data dictionary.\n",
        "nhist1 = nmodel.fit(x = X_train, y = y_train, epochs=model_info['epochs'],\n",
        "                    callbacks=[TimeCallback()],\n",
        "                    validation_split=0.2,)\n",
        "\n",
        "stop = datetime.now()\n",
        "model_info['tdelta'] = str(stop-start)\n",
        "print(\"Runtime: \", str(stop-start))\n",
        "\n",
        "print(\"Evaluate model\")\n",
        "model_info['test_accuracy'] = str(round(nmodel.evaluate(X_test, y_test, verbose=True)[1],4))\n",
        "print(\"Test accuracy: \",model_info['test_accuracy'])\n",
        "\n",
        "\n",
        "#plot_model_loss(model_info, nhist1.history, title=nmodel.name)\n",
        "#print(\"Loss and accuracy plots saved.\")\n"
      ],
      "metadata": {
        "colab": {
          "base_uri": "https://localhost:8080/",
          "height": 516
        },
        "id": "jcACZyTkuW1Y",
        "outputId": "233de564-dc9f-4958-e011-637225d3eace"
      },
      "execution_count": 45,
      "outputs": [
        {
          "output_type": "display_data",
          "data": {
            "text/plain": [
              "\u001b[1mModel: \"DNN-cmi\"\u001b[0m\n"
            ],
            "text/html": [
              "<pre style=\"white-space:pre;overflow-x:auto;line-height:normal;font-family:Menlo,'DejaVu Sans Mono',consolas,'Courier New',monospace\"><span style=\"font-weight: bold\">Model: \"DNN-cmi\"</span>\n",
              "</pre>\n"
            ]
          },
          "metadata": {}
        },
        {
          "output_type": "display_data",
          "data": {
            "text/plain": [
              "┏━━━━━━━━━━━━━━━━━━━━━━━━━━━━━━━━━┳━━━━━━━━━━━━━━━━━━━━━━━━┳━━━━━━━━━━━━━━━┓\n",
              "┃\u001b[1m \u001b[0m\u001b[1mLayer (type)                   \u001b[0m\u001b[1m \u001b[0m┃\u001b[1m \u001b[0m\u001b[1mOutput Shape          \u001b[0m\u001b[1m \u001b[0m┃\u001b[1m \u001b[0m\u001b[1m      Param #\u001b[0m\u001b[1m \u001b[0m┃\n",
              "┡━━━━━━━━━━━━━━━━━━━━━━━━━━━━━━━━━╇━━━━━━━━━━━━━━━━━━━━━━━━╇━━━━━━━━━━━━━━━┩\n",
              "│ dense_12 (\u001b[38;5;33mDense\u001b[0m)                │ (\u001b[38;5;45mNone\u001b[0m, \u001b[38;5;34m256\u001b[0m)            │        \u001b[38;5;34m82,176\u001b[0m │\n",
              "├─────────────────────────────────┼────────────────────────┼───────────────┤\n",
              "│ dense_13 (\u001b[38;5;33mDense\u001b[0m)                │ (\u001b[38;5;45mNone\u001b[0m, \u001b[38;5;34m128\u001b[0m)            │        \u001b[38;5;34m32,896\u001b[0m │\n",
              "├─────────────────────────────────┼────────────────────────┼───────────────┤\n",
              "│ dense_14 (\u001b[38;5;33mDense\u001b[0m)                │ (\u001b[38;5;45mNone\u001b[0m, \u001b[38;5;34m32\u001b[0m)             │         \u001b[38;5;34m4,128\u001b[0m │\n",
              "└─────────────────────────────────┴────────────────────────┴───────────────┘\n"
            ],
            "text/html": [
              "<pre style=\"white-space:pre;overflow-x:auto;line-height:normal;font-family:Menlo,'DejaVu Sans Mono',consolas,'Courier New',monospace\">┏━━━━━━━━━━━━━━━━━━━━━━━━━━━━━━━━━┳━━━━━━━━━━━━━━━━━━━━━━━━┳━━━━━━━━━━━━━━━┓\n",
              "┃<span style=\"font-weight: bold\"> Layer (type)                    </span>┃<span style=\"font-weight: bold\"> Output Shape           </span>┃<span style=\"font-weight: bold\">       Param # </span>┃\n",
              "┡━━━━━━━━━━━━━━━━━━━━━━━━━━━━━━━━━╇━━━━━━━━━━━━━━━━━━━━━━━━╇━━━━━━━━━━━━━━━┩\n",
              "│ dense_12 (<span style=\"color: #0087ff; text-decoration-color: #0087ff\">Dense</span>)                │ (<span style=\"color: #00d7ff; text-decoration-color: #00d7ff\">None</span>, <span style=\"color: #00af00; text-decoration-color: #00af00\">256</span>)            │        <span style=\"color: #00af00; text-decoration-color: #00af00\">82,176</span> │\n",
              "├─────────────────────────────────┼────────────────────────┼───────────────┤\n",
              "│ dense_13 (<span style=\"color: #0087ff; text-decoration-color: #0087ff\">Dense</span>)                │ (<span style=\"color: #00d7ff; text-decoration-color: #00d7ff\">None</span>, <span style=\"color: #00af00; text-decoration-color: #00af00\">128</span>)            │        <span style=\"color: #00af00; text-decoration-color: #00af00\">32,896</span> │\n",
              "├─────────────────────────────────┼────────────────────────┼───────────────┤\n",
              "│ dense_14 (<span style=\"color: #0087ff; text-decoration-color: #0087ff\">Dense</span>)                │ (<span style=\"color: #00d7ff; text-decoration-color: #00d7ff\">None</span>, <span style=\"color: #00af00; text-decoration-color: #00af00\">32</span>)             │         <span style=\"color: #00af00; text-decoration-color: #00af00\">4,128</span> │\n",
              "└─────────────────────────────────┴────────────────────────┴───────────────┘\n",
              "</pre>\n"
            ]
          },
          "metadata": {}
        },
        {
          "output_type": "display_data",
          "data": {
            "text/plain": [
              "\u001b[1m Total params: \u001b[0m\u001b[38;5;34m119,200\u001b[0m (465.62 KB)\n"
            ],
            "text/html": [
              "<pre style=\"white-space:pre;overflow-x:auto;line-height:normal;font-family:Menlo,'DejaVu Sans Mono',consolas,'Courier New',monospace\"><span style=\"font-weight: bold\"> Total params: </span><span style=\"color: #00af00; text-decoration-color: #00af00\">119,200</span> (465.62 KB)\n",
              "</pre>\n"
            ]
          },
          "metadata": {}
        },
        {
          "output_type": "display_data",
          "data": {
            "text/plain": [
              "\u001b[1m Trainable params: \u001b[0m\u001b[38;5;34m119,200\u001b[0m (465.62 KB)\n"
            ],
            "text/html": [
              "<pre style=\"white-space:pre;overflow-x:auto;line-height:normal;font-family:Menlo,'DejaVu Sans Mono',consolas,'Courier New',monospace\"><span style=\"font-weight: bold\"> Trainable params: </span><span style=\"color: #00af00; text-decoration-color: #00af00\">119,200</span> (465.62 KB)\n",
              "</pre>\n"
            ]
          },
          "metadata": {}
        },
        {
          "output_type": "display_data",
          "data": {
            "text/plain": [
              "\u001b[1m Non-trainable params: \u001b[0m\u001b[38;5;34m0\u001b[0m (0.00 B)\n"
            ],
            "text/html": [
              "<pre style=\"white-space:pre;overflow-x:auto;line-height:normal;font-family:Menlo,'DejaVu Sans Mono',consolas,'Courier New',monospace\"><span style=\"font-weight: bold\"> Non-trainable params: </span><span style=\"color: #00af00; text-decoration-color: #00af00\">0</span> (0.00 B)\n",
              "</pre>\n"
            ]
          },
          "metadata": {}
        },
        {
          "output_type": "stream",
          "name": "stdout",
          "text": [
            "None\n",
            "Fit model\n",
            "2025-07-08 15:34:17 ---Epoch 1/5\n",
            "\u001b[1m11/11\u001b[0m \u001b[32m━━━━━━━━━━━━━━━━━━━━\u001b[0m\u001b[37m\u001b[0m \u001b[1m2s\u001b[0m 32ms/step - accuracy: 0.4626 - loss: 2.1543 - val_accuracy: 0.1512 - val_loss: 1.0986\n",
            "2025-07-08 15:34:19 ---Epoch 2/5\n",
            "\u001b[1m11/11\u001b[0m \u001b[32m━━━━━━━━━━━━━━━━━━━━\u001b[0m\u001b[37m\u001b[0m \u001b[1m0s\u001b[0m 11ms/step - accuracy: 0.5312 - loss: 0.9141 - val_accuracy: 0.1512 - val_loss: 0.6931\n",
            "2025-07-08 15:34:20 ---Epoch 3/5\n",
            "\u001b[1m11/11\u001b[0m \u001b[32m━━━━━━━━━━━━━━━━━━━━\u001b[0m\u001b[37m\u001b[0m \u001b[1m0s\u001b[0m 11ms/step - accuracy: 0.5308 - loss: 0.6931 - val_accuracy: 0.1512 - val_loss: 0.6931\n",
            "2025-07-08 15:34:20 ---Epoch 4/5\n",
            "\u001b[1m11/11\u001b[0m \u001b[32m━━━━━━━━━━━━━━━━━━━━\u001b[0m\u001b[37m\u001b[0m \u001b[1m0s\u001b[0m 11ms/step - accuracy: 0.5613 - loss: 0.6931 - val_accuracy: 0.1512 - val_loss: 0.6931\n",
            "2025-07-08 15:34:20 ---Epoch 5/5\n",
            "\u001b[1m11/11\u001b[0m \u001b[32m━━━━━━━━━━━━━━━━━━━━\u001b[0m\u001b[37m\u001b[0m \u001b[1m0s\u001b[0m 11ms/step - accuracy: 0.5174 - loss: 0.6931 - val_accuracy: 0.1512 - val_loss: 0.6931\n",
            "Runtime:  0:00:02.671538\n",
            "Evaluate model\n",
            "\u001b[1m47/47\u001b[0m \u001b[32m━━━━━━━━━━━━━━━━━━━━\u001b[0m\u001b[37m\u001b[0m \u001b[1m0s\u001b[0m 3ms/step - accuracy: 0.7520 - loss: 0.6931\n",
            "Test accuracy:  0.7641\n"
          ]
        }
      ]
    },
    {
      "cell_type": "code",
      "source": [],
      "metadata": {
        "id": "CVhvx44btXLw"
      },
      "execution_count": 23,
      "outputs": []
    },
    {
      "cell_type": "markdown",
      "source": [
        "## Model: DNN 2"
      ],
      "metadata": {
        "id": "8bZe3RgI8okO"
      }
    },
    {
      "cell_type": "markdown",
      "source": [
        "four DNN models that come together\n",
        "- focuses on orientation: 4 ['Seated Lean Non Dom - FACE DOWN', 'Lie on Side - on Dominant', 'Seated Straight', 'Lie on Back']\n",
        "- focuses on behavior: 4 ['Relaxes and moves hand to target location', 'Hand at target location', 'Performs gesture', 'Moves hand to target location']\n",
        "- focuses on phase: 2 ['Transition', 'Gesture']\n",
        "\n",
        "---------------------------------------------\n",
        "- sequence_type: 2 ['Target', 'Non-Target']\n",
        "-gesture: 18\n",
        "['Cheek - pinch skin', 'Forehead - pull hairline',\n",
        "       'Write name on leg', 'Feel around in tray and pull out an object',\n",
        "       'Neck - scratch', 'Neck - pinch skin', 'Eyelash - pull hair',\n",
        "       'Eyebrow - pull hair', 'Forehead - scratch',\n",
        "       'Above ear - pull hair', 'Wave hello', 'Write name in air',\n",
        "       'Text on phone', 'Pull air toward your face',\n",
        "       'Pinch knee/leg skin', 'Scratch knee/leg skin',\n",
        "       'Drink from bottle/cup', 'Glasses on/off']\n",
        "\n"
      ],
      "metadata": {
        "id": "zBs8bG7d8tGV"
      }
    },
    {
      "cell_type": "code",
      "source": [
        "## Model\n",
        "model_info = {\n",
        "        'epochs': 5,\n",
        "        'learning_rate': 0.01,\n",
        "        'loss':  keras.losses.SparseCategoricalCrossentropy(), # multiclass crossentropy\n",
        "        \"activation\": 'relu',\n",
        "        \"final_activation\": 'softmax',\n",
        "}\n",
        "\n",
        "model_info[\"optimizer\"] = keras.optimizers.Adam(learning_rate=model_info['learning_rate'])\n",
        "\n",
        "model_o = keras.Sequential(\n",
        "            [\n",
        "                keras.Input(shape=(320,)),\n",
        "                keras.layers.Dense(256, activation=model_info['activation']),\n",
        "                keras.layers.Dense(128, activation=model_info['activation']),\n",
        "                keras.layers.Dense(32, activation=model_info['activation']),\n",
        "                keras.layers.Dense(4, activation=model_info['final_activation']),\n",
        "            ],\n",
        "            name = 'DNN-cmi-orientation'\n",
        "            )\n",
        "\n",
        "model_b = keras.Sequential(\n",
        "            [\n",
        "                keras.Input(shape=(320,)),\n",
        "                keras.layers.Dense(256, activation=model_info['activation']),\n",
        "                keras.layers.Dense(128, activation=model_info['activation']),\n",
        "                keras.layers.Dense(32, activation=model_info['activation']),\n",
        "                keras.layers.Dense(4, activation=model_info['final_activation']),\n",
        "            ],\n",
        "            name = 'DNN-cmi-behavior'\n",
        "            )\n",
        "\n",
        "model_p = keras.Sequential(\n",
        "            [\n",
        "                keras.Input(shape=(320,)),\n",
        "                keras.layers.Dense(256, activation=model_info['activation']),\n",
        "                keras.layers.Dense(128, activation=model_info['activation']),\n",
        "                keras.layers.Dense(32, activation=model_info['activation']),\n",
        "                keras.layers.Dense(2, activation=model_info['final_activation']),\n",
        "            ],\n",
        "            name = 'DNN-cmi-phase'\n",
        "            )\n",
        "\n",
        "\n",
        "models = {\n",
        "    '_o': model_o,\n",
        "    '_b': model_b,\n",
        "    '_p': model_p,\n",
        "    '_g': model_g,\n",
        "    '_s': model_s}\n",
        "\n",
        "for model in models.values():\n",
        "  print(model.summary())"
      ],
      "metadata": {
        "colab": {
          "base_uri": "https://localhost:8080/",
          "height": 1000
        },
        "id": "nR5qYBJQ88eY",
        "outputId": "bc91f57a-6e43-4dd0-8432-248208f3f8d9"
      },
      "execution_count": 15,
      "outputs": [
        {
          "output_type": "display_data",
          "data": {
            "text/plain": [
              "\u001b[1mModel: \"DNN-cmi-orientation\"\u001b[0m\n"
            ],
            "text/html": [
              "<pre style=\"white-space:pre;overflow-x:auto;line-height:normal;font-family:Menlo,'DejaVu Sans Mono',consolas,'Courier New',monospace\"><span style=\"font-weight: bold\">Model: \"DNN-cmi-orientation\"</span>\n",
              "</pre>\n"
            ]
          },
          "metadata": {}
        },
        {
          "output_type": "display_data",
          "data": {
            "text/plain": [
              "┏━━━━━━━━━━━━━━━━━━━━━━━━━━━━━━━━━┳━━━━━━━━━━━━━━━━━━━━━━━━┳━━━━━━━━━━━━━━━┓\n",
              "┃\u001b[1m \u001b[0m\u001b[1mLayer (type)                   \u001b[0m\u001b[1m \u001b[0m┃\u001b[1m \u001b[0m\u001b[1mOutput Shape          \u001b[0m\u001b[1m \u001b[0m┃\u001b[1m \u001b[0m\u001b[1m      Param #\u001b[0m\u001b[1m \u001b[0m┃\n",
              "┡━━━━━━━━━━━━━━━━━━━━━━━━━━━━━━━━━╇━━━━━━━━━━━━━━━━━━━━━━━━╇━━━━━━━━━━━━━━━┩\n",
              "│ dense_20 (\u001b[38;5;33mDense\u001b[0m)                │ (\u001b[38;5;45mNone\u001b[0m, \u001b[38;5;34m256\u001b[0m)            │        \u001b[38;5;34m82,176\u001b[0m │\n",
              "├─────────────────────────────────┼────────────────────────┼───────────────┤\n",
              "│ dense_21 (\u001b[38;5;33mDense\u001b[0m)                │ (\u001b[38;5;45mNone\u001b[0m, \u001b[38;5;34m128\u001b[0m)            │        \u001b[38;5;34m32,896\u001b[0m │\n",
              "├─────────────────────────────────┼────────────────────────┼───────────────┤\n",
              "│ dense_22 (\u001b[38;5;33mDense\u001b[0m)                │ (\u001b[38;5;45mNone\u001b[0m, \u001b[38;5;34m32\u001b[0m)             │         \u001b[38;5;34m4,128\u001b[0m │\n",
              "├─────────────────────────────────┼────────────────────────┼───────────────┤\n",
              "│ dense_23 (\u001b[38;5;33mDense\u001b[0m)                │ (\u001b[38;5;45mNone\u001b[0m, \u001b[38;5;34m4\u001b[0m)              │           \u001b[38;5;34m132\u001b[0m │\n",
              "└─────────────────────────────────┴────────────────────────┴───────────────┘\n"
            ],
            "text/html": [
              "<pre style=\"white-space:pre;overflow-x:auto;line-height:normal;font-family:Menlo,'DejaVu Sans Mono',consolas,'Courier New',monospace\">┏━━━━━━━━━━━━━━━━━━━━━━━━━━━━━━━━━┳━━━━━━━━━━━━━━━━━━━━━━━━┳━━━━━━━━━━━━━━━┓\n",
              "┃<span style=\"font-weight: bold\"> Layer (type)                    </span>┃<span style=\"font-weight: bold\"> Output Shape           </span>┃<span style=\"font-weight: bold\">       Param # </span>┃\n",
              "┡━━━━━━━━━━━━━━━━━━━━━━━━━━━━━━━━━╇━━━━━━━━━━━━━━━━━━━━━━━━╇━━━━━━━━━━━━━━━┩\n",
              "│ dense_20 (<span style=\"color: #0087ff; text-decoration-color: #0087ff\">Dense</span>)                │ (<span style=\"color: #00d7ff; text-decoration-color: #00d7ff\">None</span>, <span style=\"color: #00af00; text-decoration-color: #00af00\">256</span>)            │        <span style=\"color: #00af00; text-decoration-color: #00af00\">82,176</span> │\n",
              "├─────────────────────────────────┼────────────────────────┼───────────────┤\n",
              "│ dense_21 (<span style=\"color: #0087ff; text-decoration-color: #0087ff\">Dense</span>)                │ (<span style=\"color: #00d7ff; text-decoration-color: #00d7ff\">None</span>, <span style=\"color: #00af00; text-decoration-color: #00af00\">128</span>)            │        <span style=\"color: #00af00; text-decoration-color: #00af00\">32,896</span> │\n",
              "├─────────────────────────────────┼────────────────────────┼───────────────┤\n",
              "│ dense_22 (<span style=\"color: #0087ff; text-decoration-color: #0087ff\">Dense</span>)                │ (<span style=\"color: #00d7ff; text-decoration-color: #00d7ff\">None</span>, <span style=\"color: #00af00; text-decoration-color: #00af00\">32</span>)             │         <span style=\"color: #00af00; text-decoration-color: #00af00\">4,128</span> │\n",
              "├─────────────────────────────────┼────────────────────────┼───────────────┤\n",
              "│ dense_23 (<span style=\"color: #0087ff; text-decoration-color: #0087ff\">Dense</span>)                │ (<span style=\"color: #00d7ff; text-decoration-color: #00d7ff\">None</span>, <span style=\"color: #00af00; text-decoration-color: #00af00\">4</span>)              │           <span style=\"color: #00af00; text-decoration-color: #00af00\">132</span> │\n",
              "└─────────────────────────────────┴────────────────────────┴───────────────┘\n",
              "</pre>\n"
            ]
          },
          "metadata": {}
        },
        {
          "output_type": "display_data",
          "data": {
            "text/plain": [
              "\u001b[1m Total params: \u001b[0m\u001b[38;5;34m119,332\u001b[0m (466.14 KB)\n"
            ],
            "text/html": [
              "<pre style=\"white-space:pre;overflow-x:auto;line-height:normal;font-family:Menlo,'DejaVu Sans Mono',consolas,'Courier New',monospace\"><span style=\"font-weight: bold\"> Total params: </span><span style=\"color: #00af00; text-decoration-color: #00af00\">119,332</span> (466.14 KB)\n",
              "</pre>\n"
            ]
          },
          "metadata": {}
        },
        {
          "output_type": "display_data",
          "data": {
            "text/plain": [
              "\u001b[1m Trainable params: \u001b[0m\u001b[38;5;34m119,332\u001b[0m (466.14 KB)\n"
            ],
            "text/html": [
              "<pre style=\"white-space:pre;overflow-x:auto;line-height:normal;font-family:Menlo,'DejaVu Sans Mono',consolas,'Courier New',monospace\"><span style=\"font-weight: bold\"> Trainable params: </span><span style=\"color: #00af00; text-decoration-color: #00af00\">119,332</span> (466.14 KB)\n",
              "</pre>\n"
            ]
          },
          "metadata": {}
        },
        {
          "output_type": "display_data",
          "data": {
            "text/plain": [
              "\u001b[1m Non-trainable params: \u001b[0m\u001b[38;5;34m0\u001b[0m (0.00 B)\n"
            ],
            "text/html": [
              "<pre style=\"white-space:pre;overflow-x:auto;line-height:normal;font-family:Menlo,'DejaVu Sans Mono',consolas,'Courier New',monospace\"><span style=\"font-weight: bold\"> Non-trainable params: </span><span style=\"color: #00af00; text-decoration-color: #00af00\">0</span> (0.00 B)\n",
              "</pre>\n"
            ]
          },
          "metadata": {}
        },
        {
          "output_type": "stream",
          "name": "stdout",
          "text": [
            "None\n"
          ]
        },
        {
          "output_type": "display_data",
          "data": {
            "text/plain": [
              "\u001b[1mModel: \"DNN-cmi-behavior\"\u001b[0m\n"
            ],
            "text/html": [
              "<pre style=\"white-space:pre;overflow-x:auto;line-height:normal;font-family:Menlo,'DejaVu Sans Mono',consolas,'Courier New',monospace\"><span style=\"font-weight: bold\">Model: \"DNN-cmi-behavior\"</span>\n",
              "</pre>\n"
            ]
          },
          "metadata": {}
        },
        {
          "output_type": "display_data",
          "data": {
            "text/plain": [
              "┏━━━━━━━━━━━━━━━━━━━━━━━━━━━━━━━━━┳━━━━━━━━━━━━━━━━━━━━━━━━┳━━━━━━━━━━━━━━━┓\n",
              "┃\u001b[1m \u001b[0m\u001b[1mLayer (type)                   \u001b[0m\u001b[1m \u001b[0m┃\u001b[1m \u001b[0m\u001b[1mOutput Shape          \u001b[0m\u001b[1m \u001b[0m┃\u001b[1m \u001b[0m\u001b[1m      Param #\u001b[0m\u001b[1m \u001b[0m┃\n",
              "┡━━━━━━━━━━━━━━━━━━━━━━━━━━━━━━━━━╇━━━━━━━━━━━━━━━━━━━━━━━━╇━━━━━━━━━━━━━━━┩\n",
              "│ dense_24 (\u001b[38;5;33mDense\u001b[0m)                │ (\u001b[38;5;45mNone\u001b[0m, \u001b[38;5;34m256\u001b[0m)            │        \u001b[38;5;34m82,176\u001b[0m │\n",
              "├─────────────────────────────────┼────────────────────────┼───────────────┤\n",
              "│ dense_25 (\u001b[38;5;33mDense\u001b[0m)                │ (\u001b[38;5;45mNone\u001b[0m, \u001b[38;5;34m128\u001b[0m)            │        \u001b[38;5;34m32,896\u001b[0m │\n",
              "├─────────────────────────────────┼────────────────────────┼───────────────┤\n",
              "│ dense_26 (\u001b[38;5;33mDense\u001b[0m)                │ (\u001b[38;5;45mNone\u001b[0m, \u001b[38;5;34m32\u001b[0m)             │         \u001b[38;5;34m4,128\u001b[0m │\n",
              "├─────────────────────────────────┼────────────────────────┼───────────────┤\n",
              "│ dense_27 (\u001b[38;5;33mDense\u001b[0m)                │ (\u001b[38;5;45mNone\u001b[0m, \u001b[38;5;34m4\u001b[0m)              │           \u001b[38;5;34m132\u001b[0m │\n",
              "└─────────────────────────────────┴────────────────────────┴───────────────┘\n"
            ],
            "text/html": [
              "<pre style=\"white-space:pre;overflow-x:auto;line-height:normal;font-family:Menlo,'DejaVu Sans Mono',consolas,'Courier New',monospace\">┏━━━━━━━━━━━━━━━━━━━━━━━━━━━━━━━━━┳━━━━━━━━━━━━━━━━━━━━━━━━┳━━━━━━━━━━━━━━━┓\n",
              "┃<span style=\"font-weight: bold\"> Layer (type)                    </span>┃<span style=\"font-weight: bold\"> Output Shape           </span>┃<span style=\"font-weight: bold\">       Param # </span>┃\n",
              "┡━━━━━━━━━━━━━━━━━━━━━━━━━━━━━━━━━╇━━━━━━━━━━━━━━━━━━━━━━━━╇━━━━━━━━━━━━━━━┩\n",
              "│ dense_24 (<span style=\"color: #0087ff; text-decoration-color: #0087ff\">Dense</span>)                │ (<span style=\"color: #00d7ff; text-decoration-color: #00d7ff\">None</span>, <span style=\"color: #00af00; text-decoration-color: #00af00\">256</span>)            │        <span style=\"color: #00af00; text-decoration-color: #00af00\">82,176</span> │\n",
              "├─────────────────────────────────┼────────────────────────┼───────────────┤\n",
              "│ dense_25 (<span style=\"color: #0087ff; text-decoration-color: #0087ff\">Dense</span>)                │ (<span style=\"color: #00d7ff; text-decoration-color: #00d7ff\">None</span>, <span style=\"color: #00af00; text-decoration-color: #00af00\">128</span>)            │        <span style=\"color: #00af00; text-decoration-color: #00af00\">32,896</span> │\n",
              "├─────────────────────────────────┼────────────────────────┼───────────────┤\n",
              "│ dense_26 (<span style=\"color: #0087ff; text-decoration-color: #0087ff\">Dense</span>)                │ (<span style=\"color: #00d7ff; text-decoration-color: #00d7ff\">None</span>, <span style=\"color: #00af00; text-decoration-color: #00af00\">32</span>)             │         <span style=\"color: #00af00; text-decoration-color: #00af00\">4,128</span> │\n",
              "├─────────────────────────────────┼────────────────────────┼───────────────┤\n",
              "│ dense_27 (<span style=\"color: #0087ff; text-decoration-color: #0087ff\">Dense</span>)                │ (<span style=\"color: #00d7ff; text-decoration-color: #00d7ff\">None</span>, <span style=\"color: #00af00; text-decoration-color: #00af00\">4</span>)              │           <span style=\"color: #00af00; text-decoration-color: #00af00\">132</span> │\n",
              "└─────────────────────────────────┴────────────────────────┴───────────────┘\n",
              "</pre>\n"
            ]
          },
          "metadata": {}
        },
        {
          "output_type": "display_data",
          "data": {
            "text/plain": [
              "\u001b[1m Total params: \u001b[0m\u001b[38;5;34m119,332\u001b[0m (466.14 KB)\n"
            ],
            "text/html": [
              "<pre style=\"white-space:pre;overflow-x:auto;line-height:normal;font-family:Menlo,'DejaVu Sans Mono',consolas,'Courier New',monospace\"><span style=\"font-weight: bold\"> Total params: </span><span style=\"color: #00af00; text-decoration-color: #00af00\">119,332</span> (466.14 KB)\n",
              "</pre>\n"
            ]
          },
          "metadata": {}
        },
        {
          "output_type": "display_data",
          "data": {
            "text/plain": [
              "\u001b[1m Trainable params: \u001b[0m\u001b[38;5;34m119,332\u001b[0m (466.14 KB)\n"
            ],
            "text/html": [
              "<pre style=\"white-space:pre;overflow-x:auto;line-height:normal;font-family:Menlo,'DejaVu Sans Mono',consolas,'Courier New',monospace\"><span style=\"font-weight: bold\"> Trainable params: </span><span style=\"color: #00af00; text-decoration-color: #00af00\">119,332</span> (466.14 KB)\n",
              "</pre>\n"
            ]
          },
          "metadata": {}
        },
        {
          "output_type": "display_data",
          "data": {
            "text/plain": [
              "\u001b[1m Non-trainable params: \u001b[0m\u001b[38;5;34m0\u001b[0m (0.00 B)\n"
            ],
            "text/html": [
              "<pre style=\"white-space:pre;overflow-x:auto;line-height:normal;font-family:Menlo,'DejaVu Sans Mono',consolas,'Courier New',monospace\"><span style=\"font-weight: bold\"> Non-trainable params: </span><span style=\"color: #00af00; text-decoration-color: #00af00\">0</span> (0.00 B)\n",
              "</pre>\n"
            ]
          },
          "metadata": {}
        },
        {
          "output_type": "stream",
          "name": "stdout",
          "text": [
            "None\n"
          ]
        },
        {
          "output_type": "display_data",
          "data": {
            "text/plain": [
              "\u001b[1mModel: \"DNN-cmi-phase\"\u001b[0m\n"
            ],
            "text/html": [
              "<pre style=\"white-space:pre;overflow-x:auto;line-height:normal;font-family:Menlo,'DejaVu Sans Mono',consolas,'Courier New',monospace\"><span style=\"font-weight: bold\">Model: \"DNN-cmi-phase\"</span>\n",
              "</pre>\n"
            ]
          },
          "metadata": {}
        },
        {
          "output_type": "display_data",
          "data": {
            "text/plain": [
              "┏━━━━━━━━━━━━━━━━━━━━━━━━━━━━━━━━━┳━━━━━━━━━━━━━━━━━━━━━━━━┳━━━━━━━━━━━━━━━┓\n",
              "┃\u001b[1m \u001b[0m\u001b[1mLayer (type)                   \u001b[0m\u001b[1m \u001b[0m┃\u001b[1m \u001b[0m\u001b[1mOutput Shape          \u001b[0m\u001b[1m \u001b[0m┃\u001b[1m \u001b[0m\u001b[1m      Param #\u001b[0m\u001b[1m \u001b[0m┃\n",
              "┡━━━━━━━━━━━━━━━━━━━━━━━━━━━━━━━━━╇━━━━━━━━━━━━━━━━━━━━━━━━╇━━━━━━━━━━━━━━━┩\n",
              "│ dense_28 (\u001b[38;5;33mDense\u001b[0m)                │ (\u001b[38;5;45mNone\u001b[0m, \u001b[38;5;34m256\u001b[0m)            │        \u001b[38;5;34m82,176\u001b[0m │\n",
              "├─────────────────────────────────┼────────────────────────┼───────────────┤\n",
              "│ dense_29 (\u001b[38;5;33mDense\u001b[0m)                │ (\u001b[38;5;45mNone\u001b[0m, \u001b[38;5;34m128\u001b[0m)            │        \u001b[38;5;34m32,896\u001b[0m │\n",
              "├─────────────────────────────────┼────────────────────────┼───────────────┤\n",
              "│ dense_30 (\u001b[38;5;33mDense\u001b[0m)                │ (\u001b[38;5;45mNone\u001b[0m, \u001b[38;5;34m32\u001b[0m)             │         \u001b[38;5;34m4,128\u001b[0m │\n",
              "├─────────────────────────────────┼────────────────────────┼───────────────┤\n",
              "│ dense_31 (\u001b[38;5;33mDense\u001b[0m)                │ (\u001b[38;5;45mNone\u001b[0m, \u001b[38;5;34m2\u001b[0m)              │            \u001b[38;5;34m66\u001b[0m │\n",
              "└─────────────────────────────────┴────────────────────────┴───────────────┘\n"
            ],
            "text/html": [
              "<pre style=\"white-space:pre;overflow-x:auto;line-height:normal;font-family:Menlo,'DejaVu Sans Mono',consolas,'Courier New',monospace\">┏━━━━━━━━━━━━━━━━━━━━━━━━━━━━━━━━━┳━━━━━━━━━━━━━━━━━━━━━━━━┳━━━━━━━━━━━━━━━┓\n",
              "┃<span style=\"font-weight: bold\"> Layer (type)                    </span>┃<span style=\"font-weight: bold\"> Output Shape           </span>┃<span style=\"font-weight: bold\">       Param # </span>┃\n",
              "┡━━━━━━━━━━━━━━━━━━━━━━━━━━━━━━━━━╇━━━━━━━━━━━━━━━━━━━━━━━━╇━━━━━━━━━━━━━━━┩\n",
              "│ dense_28 (<span style=\"color: #0087ff; text-decoration-color: #0087ff\">Dense</span>)                │ (<span style=\"color: #00d7ff; text-decoration-color: #00d7ff\">None</span>, <span style=\"color: #00af00; text-decoration-color: #00af00\">256</span>)            │        <span style=\"color: #00af00; text-decoration-color: #00af00\">82,176</span> │\n",
              "├─────────────────────────────────┼────────────────────────┼───────────────┤\n",
              "│ dense_29 (<span style=\"color: #0087ff; text-decoration-color: #0087ff\">Dense</span>)                │ (<span style=\"color: #00d7ff; text-decoration-color: #00d7ff\">None</span>, <span style=\"color: #00af00; text-decoration-color: #00af00\">128</span>)            │        <span style=\"color: #00af00; text-decoration-color: #00af00\">32,896</span> │\n",
              "├─────────────────────────────────┼────────────────────────┼───────────────┤\n",
              "│ dense_30 (<span style=\"color: #0087ff; text-decoration-color: #0087ff\">Dense</span>)                │ (<span style=\"color: #00d7ff; text-decoration-color: #00d7ff\">None</span>, <span style=\"color: #00af00; text-decoration-color: #00af00\">32</span>)             │         <span style=\"color: #00af00; text-decoration-color: #00af00\">4,128</span> │\n",
              "├─────────────────────────────────┼────────────────────────┼───────────────┤\n",
              "│ dense_31 (<span style=\"color: #0087ff; text-decoration-color: #0087ff\">Dense</span>)                │ (<span style=\"color: #00d7ff; text-decoration-color: #00d7ff\">None</span>, <span style=\"color: #00af00; text-decoration-color: #00af00\">2</span>)              │            <span style=\"color: #00af00; text-decoration-color: #00af00\">66</span> │\n",
              "└─────────────────────────────────┴────────────────────────┴───────────────┘\n",
              "</pre>\n"
            ]
          },
          "metadata": {}
        },
        {
          "output_type": "display_data",
          "data": {
            "text/plain": [
              "\u001b[1m Total params: \u001b[0m\u001b[38;5;34m119,266\u001b[0m (465.88 KB)\n"
            ],
            "text/html": [
              "<pre style=\"white-space:pre;overflow-x:auto;line-height:normal;font-family:Menlo,'DejaVu Sans Mono',consolas,'Courier New',monospace\"><span style=\"font-weight: bold\"> Total params: </span><span style=\"color: #00af00; text-decoration-color: #00af00\">119,266</span> (465.88 KB)\n",
              "</pre>\n"
            ]
          },
          "metadata": {}
        },
        {
          "output_type": "display_data",
          "data": {
            "text/plain": [
              "\u001b[1m Trainable params: \u001b[0m\u001b[38;5;34m119,266\u001b[0m (465.88 KB)\n"
            ],
            "text/html": [
              "<pre style=\"white-space:pre;overflow-x:auto;line-height:normal;font-family:Menlo,'DejaVu Sans Mono',consolas,'Courier New',monospace\"><span style=\"font-weight: bold\"> Trainable params: </span><span style=\"color: #00af00; text-decoration-color: #00af00\">119,266</span> (465.88 KB)\n",
              "</pre>\n"
            ]
          },
          "metadata": {}
        },
        {
          "output_type": "display_data",
          "data": {
            "text/plain": [
              "\u001b[1m Non-trainable params: \u001b[0m\u001b[38;5;34m0\u001b[0m (0.00 B)\n"
            ],
            "text/html": [
              "<pre style=\"white-space:pre;overflow-x:auto;line-height:normal;font-family:Menlo,'DejaVu Sans Mono',consolas,'Courier New',monospace\"><span style=\"font-weight: bold\"> Non-trainable params: </span><span style=\"color: #00af00; text-decoration-color: #00af00\">0</span> (0.00 B)\n",
              "</pre>\n"
            ]
          },
          "metadata": {}
        },
        {
          "output_type": "stream",
          "name": "stdout",
          "text": [
            "None\n"
          ]
        },
        {
          "output_type": "display_data",
          "data": {
            "text/plain": [
              "\u001b[1mModel: \"DNN-cmi-gesture\"\u001b[0m\n"
            ],
            "text/html": [
              "<pre style=\"white-space:pre;overflow-x:auto;line-height:normal;font-family:Menlo,'DejaVu Sans Mono',consolas,'Courier New',monospace\"><span style=\"font-weight: bold\">Model: \"DNN-cmi-gesture\"</span>\n",
              "</pre>\n"
            ]
          },
          "metadata": {}
        },
        {
          "output_type": "display_data",
          "data": {
            "text/plain": [
              "┏━━━━━━━━━━━━━━━━━━━━━━━━━━━━━━━━━┳━━━━━━━━━━━━━━━━━━━━━━━━┳━━━━━━━━━━━━━━━┓\n",
              "┃\u001b[1m \u001b[0m\u001b[1mLayer (type)                   \u001b[0m\u001b[1m \u001b[0m┃\u001b[1m \u001b[0m\u001b[1mOutput Shape          \u001b[0m\u001b[1m \u001b[0m┃\u001b[1m \u001b[0m\u001b[1m      Param #\u001b[0m\u001b[1m \u001b[0m┃\n",
              "┡━━━━━━━━━━━━━━━━━━━━━━━━━━━━━━━━━╇━━━━━━━━━━━━━━━━━━━━━━━━╇━━━━━━━━━━━━━━━┩\n",
              "│ dense_32 (\u001b[38;5;33mDense\u001b[0m)                │ (\u001b[38;5;45mNone\u001b[0m, \u001b[38;5;34m32\u001b[0m)             │           \u001b[38;5;34m352\u001b[0m │\n",
              "├─────────────────────────────────┼────────────────────────┼───────────────┤\n",
              "│ dense_33 (\u001b[38;5;33mDense\u001b[0m)                │ (\u001b[38;5;45mNone\u001b[0m, \u001b[38;5;34m64\u001b[0m)             │         \u001b[38;5;34m2,112\u001b[0m │\n",
              "├─────────────────────────────────┼────────────────────────┼───────────────┤\n",
              "│ dense_34 (\u001b[38;5;33mDense\u001b[0m)                │ (\u001b[38;5;45mNone\u001b[0m, \u001b[38;5;34m32\u001b[0m)             │         \u001b[38;5;34m2,080\u001b[0m │\n",
              "├─────────────────────────────────┼────────────────────────┼───────────────┤\n",
              "│ dense_35 (\u001b[38;5;33mDense\u001b[0m)                │ (\u001b[38;5;45mNone\u001b[0m, \u001b[38;5;34m18\u001b[0m)             │           \u001b[38;5;34m594\u001b[0m │\n",
              "└─────────────────────────────────┴────────────────────────┴───────────────┘\n"
            ],
            "text/html": [
              "<pre style=\"white-space:pre;overflow-x:auto;line-height:normal;font-family:Menlo,'DejaVu Sans Mono',consolas,'Courier New',monospace\">┏━━━━━━━━━━━━━━━━━━━━━━━━━━━━━━━━━┳━━━━━━━━━━━━━━━━━━━━━━━━┳━━━━━━━━━━━━━━━┓\n",
              "┃<span style=\"font-weight: bold\"> Layer (type)                    </span>┃<span style=\"font-weight: bold\"> Output Shape           </span>┃<span style=\"font-weight: bold\">       Param # </span>┃\n",
              "┡━━━━━━━━━━━━━━━━━━━━━━━━━━━━━━━━━╇━━━━━━━━━━━━━━━━━━━━━━━━╇━━━━━━━━━━━━━━━┩\n",
              "│ dense_32 (<span style=\"color: #0087ff; text-decoration-color: #0087ff\">Dense</span>)                │ (<span style=\"color: #00d7ff; text-decoration-color: #00d7ff\">None</span>, <span style=\"color: #00af00; text-decoration-color: #00af00\">32</span>)             │           <span style=\"color: #00af00; text-decoration-color: #00af00\">352</span> │\n",
              "├─────────────────────────────────┼────────────────────────┼───────────────┤\n",
              "│ dense_33 (<span style=\"color: #0087ff; text-decoration-color: #0087ff\">Dense</span>)                │ (<span style=\"color: #00d7ff; text-decoration-color: #00d7ff\">None</span>, <span style=\"color: #00af00; text-decoration-color: #00af00\">64</span>)             │         <span style=\"color: #00af00; text-decoration-color: #00af00\">2,112</span> │\n",
              "├─────────────────────────────────┼────────────────────────┼───────────────┤\n",
              "│ dense_34 (<span style=\"color: #0087ff; text-decoration-color: #0087ff\">Dense</span>)                │ (<span style=\"color: #00d7ff; text-decoration-color: #00d7ff\">None</span>, <span style=\"color: #00af00; text-decoration-color: #00af00\">32</span>)             │         <span style=\"color: #00af00; text-decoration-color: #00af00\">2,080</span> │\n",
              "├─────────────────────────────────┼────────────────────────┼───────────────┤\n",
              "│ dense_35 (<span style=\"color: #0087ff; text-decoration-color: #0087ff\">Dense</span>)                │ (<span style=\"color: #00d7ff; text-decoration-color: #00d7ff\">None</span>, <span style=\"color: #00af00; text-decoration-color: #00af00\">18</span>)             │           <span style=\"color: #00af00; text-decoration-color: #00af00\">594</span> │\n",
              "└─────────────────────────────────┴────────────────────────┴───────────────┘\n",
              "</pre>\n"
            ]
          },
          "metadata": {}
        },
        {
          "output_type": "display_data",
          "data": {
            "text/plain": [
              "\u001b[1m Total params: \u001b[0m\u001b[38;5;34m5,138\u001b[0m (20.07 KB)\n"
            ],
            "text/html": [
              "<pre style=\"white-space:pre;overflow-x:auto;line-height:normal;font-family:Menlo,'DejaVu Sans Mono',consolas,'Courier New',monospace\"><span style=\"font-weight: bold\"> Total params: </span><span style=\"color: #00af00; text-decoration-color: #00af00\">5,138</span> (20.07 KB)\n",
              "</pre>\n"
            ]
          },
          "metadata": {}
        },
        {
          "output_type": "display_data",
          "data": {
            "text/plain": [
              "\u001b[1m Trainable params: \u001b[0m\u001b[38;5;34m5,138\u001b[0m (20.07 KB)\n"
            ],
            "text/html": [
              "<pre style=\"white-space:pre;overflow-x:auto;line-height:normal;font-family:Menlo,'DejaVu Sans Mono',consolas,'Courier New',monospace\"><span style=\"font-weight: bold\"> Trainable params: </span><span style=\"color: #00af00; text-decoration-color: #00af00\">5,138</span> (20.07 KB)\n",
              "</pre>\n"
            ]
          },
          "metadata": {}
        },
        {
          "output_type": "display_data",
          "data": {
            "text/plain": [
              "\u001b[1m Non-trainable params: \u001b[0m\u001b[38;5;34m0\u001b[0m (0.00 B)\n"
            ],
            "text/html": [
              "<pre style=\"white-space:pre;overflow-x:auto;line-height:normal;font-family:Menlo,'DejaVu Sans Mono',consolas,'Courier New',monospace\"><span style=\"font-weight: bold\"> Non-trainable params: </span><span style=\"color: #00af00; text-decoration-color: #00af00\">0</span> (0.00 B)\n",
              "</pre>\n"
            ]
          },
          "metadata": {}
        },
        {
          "output_type": "stream",
          "name": "stdout",
          "text": [
            "None\n"
          ]
        },
        {
          "output_type": "display_data",
          "data": {
            "text/plain": [
              "\u001b[1mModel: \"DNN-cmi-sequence\"\u001b[0m\n"
            ],
            "text/html": [
              "<pre style=\"white-space:pre;overflow-x:auto;line-height:normal;font-family:Menlo,'DejaVu Sans Mono',consolas,'Courier New',monospace\"><span style=\"font-weight: bold\">Model: \"DNN-cmi-sequence\"</span>\n",
              "</pre>\n"
            ]
          },
          "metadata": {}
        },
        {
          "output_type": "display_data",
          "data": {
            "text/plain": [
              "┏━━━━━━━━━━━━━━━━━━━━━━━━━━━━━━━━━┳━━━━━━━━━━━━━━━━━━━━━━━━┳━━━━━━━━━━━━━━━┓\n",
              "┃\u001b[1m \u001b[0m\u001b[1mLayer (type)                   \u001b[0m\u001b[1m \u001b[0m┃\u001b[1m \u001b[0m\u001b[1mOutput Shape          \u001b[0m\u001b[1m \u001b[0m┃\u001b[1m \u001b[0m\u001b[1m      Param #\u001b[0m\u001b[1m \u001b[0m┃\n",
              "┡━━━━━━━━━━━━━━━━━━━━━━━━━━━━━━━━━╇━━━━━━━━━━━━━━━━━━━━━━━━╇━━━━━━━━━━━━━━━┩\n",
              "│ dense_36 (\u001b[38;5;33mDense\u001b[0m)                │ (\u001b[38;5;45mNone\u001b[0m, \u001b[38;5;34m32\u001b[0m)             │           \u001b[38;5;34m352\u001b[0m │\n",
              "├─────────────────────────────────┼────────────────────────┼───────────────┤\n",
              "│ dense_37 (\u001b[38;5;33mDense\u001b[0m)                │ (\u001b[38;5;45mNone\u001b[0m, \u001b[38;5;34m64\u001b[0m)             │         \u001b[38;5;34m2,112\u001b[0m │\n",
              "├─────────────────────────────────┼────────────────────────┼───────────────┤\n",
              "│ dense_38 (\u001b[38;5;33mDense\u001b[0m)                │ (\u001b[38;5;45mNone\u001b[0m, \u001b[38;5;34m32\u001b[0m)             │         \u001b[38;5;34m2,080\u001b[0m │\n",
              "├─────────────────────────────────┼────────────────────────┼───────────────┤\n",
              "│ dense_39 (\u001b[38;5;33mDense\u001b[0m)                │ (\u001b[38;5;45mNone\u001b[0m, \u001b[38;5;34m2\u001b[0m)              │            \u001b[38;5;34m66\u001b[0m │\n",
              "└─────────────────────────────────┴────────────────────────┴───────────────┘\n"
            ],
            "text/html": [
              "<pre style=\"white-space:pre;overflow-x:auto;line-height:normal;font-family:Menlo,'DejaVu Sans Mono',consolas,'Courier New',monospace\">┏━━━━━━━━━━━━━━━━━━━━━━━━━━━━━━━━━┳━━━━━━━━━━━━━━━━━━━━━━━━┳━━━━━━━━━━━━━━━┓\n",
              "┃<span style=\"font-weight: bold\"> Layer (type)                    </span>┃<span style=\"font-weight: bold\"> Output Shape           </span>┃<span style=\"font-weight: bold\">       Param # </span>┃\n",
              "┡━━━━━━━━━━━━━━━━━━━━━━━━━━━━━━━━━╇━━━━━━━━━━━━━━━━━━━━━━━━╇━━━━━━━━━━━━━━━┩\n",
              "│ dense_36 (<span style=\"color: #0087ff; text-decoration-color: #0087ff\">Dense</span>)                │ (<span style=\"color: #00d7ff; text-decoration-color: #00d7ff\">None</span>, <span style=\"color: #00af00; text-decoration-color: #00af00\">32</span>)             │           <span style=\"color: #00af00; text-decoration-color: #00af00\">352</span> │\n",
              "├─────────────────────────────────┼────────────────────────┼───────────────┤\n",
              "│ dense_37 (<span style=\"color: #0087ff; text-decoration-color: #0087ff\">Dense</span>)                │ (<span style=\"color: #00d7ff; text-decoration-color: #00d7ff\">None</span>, <span style=\"color: #00af00; text-decoration-color: #00af00\">64</span>)             │         <span style=\"color: #00af00; text-decoration-color: #00af00\">2,112</span> │\n",
              "├─────────────────────────────────┼────────────────────────┼───────────────┤\n",
              "│ dense_38 (<span style=\"color: #0087ff; text-decoration-color: #0087ff\">Dense</span>)                │ (<span style=\"color: #00d7ff; text-decoration-color: #00d7ff\">None</span>, <span style=\"color: #00af00; text-decoration-color: #00af00\">32</span>)             │         <span style=\"color: #00af00; text-decoration-color: #00af00\">2,080</span> │\n",
              "├─────────────────────────────────┼────────────────────────┼───────────────┤\n",
              "│ dense_39 (<span style=\"color: #0087ff; text-decoration-color: #0087ff\">Dense</span>)                │ (<span style=\"color: #00d7ff; text-decoration-color: #00d7ff\">None</span>, <span style=\"color: #00af00; text-decoration-color: #00af00\">2</span>)              │            <span style=\"color: #00af00; text-decoration-color: #00af00\">66</span> │\n",
              "└─────────────────────────────────┴────────────────────────┴───────────────┘\n",
              "</pre>\n"
            ]
          },
          "metadata": {}
        },
        {
          "output_type": "display_data",
          "data": {
            "text/plain": [
              "\u001b[1m Total params: \u001b[0m\u001b[38;5;34m4,610\u001b[0m (18.01 KB)\n"
            ],
            "text/html": [
              "<pre style=\"white-space:pre;overflow-x:auto;line-height:normal;font-family:Menlo,'DejaVu Sans Mono',consolas,'Courier New',monospace\"><span style=\"font-weight: bold\"> Total params: </span><span style=\"color: #00af00; text-decoration-color: #00af00\">4,610</span> (18.01 KB)\n",
              "</pre>\n"
            ]
          },
          "metadata": {}
        },
        {
          "output_type": "display_data",
          "data": {
            "text/plain": [
              "\u001b[1m Trainable params: \u001b[0m\u001b[38;5;34m4,610\u001b[0m (18.01 KB)\n"
            ],
            "text/html": [
              "<pre style=\"white-space:pre;overflow-x:auto;line-height:normal;font-family:Menlo,'DejaVu Sans Mono',consolas,'Courier New',monospace\"><span style=\"font-weight: bold\"> Trainable params: </span><span style=\"color: #00af00; text-decoration-color: #00af00\">4,610</span> (18.01 KB)\n",
              "</pre>\n"
            ]
          },
          "metadata": {}
        },
        {
          "output_type": "display_data",
          "data": {
            "text/plain": [
              "\u001b[1m Non-trainable params: \u001b[0m\u001b[38;5;34m0\u001b[0m (0.00 B)\n"
            ],
            "text/html": [
              "<pre style=\"white-space:pre;overflow-x:auto;line-height:normal;font-family:Menlo,'DejaVu Sans Mono',consolas,'Courier New',monospace\"><span style=\"font-weight: bold\"> Non-trainable params: </span><span style=\"color: #00af00; text-decoration-color: #00af00\">0</span> (0.00 B)\n",
              "</pre>\n"
            ]
          },
          "metadata": {}
        },
        {
          "output_type": "stream",
          "name": "stdout",
          "text": [
            "None\n"
          ]
        }
      ]
    },
    {
      "cell_type": "code",
      "source": [
        "X_train = (data.filter(pl.col(\"sequence_id\").is_in(train_ids)).select(train_features_norm))\n",
        "X_test = (data.filter(pl.col(\"sequence_id\").is_in(test_ids)).select(train_features_norm))\n",
        "\n",
        "data_dic = {\n",
        "      'X_train': np.asarray(X_train),\n",
        "      #'y_train'+suffix: y_train,\n",
        "      'X_test': np.asarray(X_test),\n",
        "     # 'y_test'+suffix: y_test\n",
        "  }\n",
        "\n",
        "target_params = {'_o': 'orientation',\n",
        "                 '_b': 'behavior',\n",
        "                 '_p': 'phase',\n",
        "                 '_g': 'gesture',\n",
        "                 '_s': 'sequence_type'}\n",
        "\n",
        "for suffix, target_param in target_params.items():\n",
        "\n",
        "  # Prep target data\n",
        "  target_uniq = data[target_param].unique()\n",
        "  data = data.with_columns(target=pl.col(target_param).replace(target_uniq, [x for x in range(len(target_uniq))]).cast(pl.Int8))\n",
        "\n",
        "  # Create train and test dataframes\n",
        "\n",
        "  y_train = (data.filter(pl.col(\"sequence_id\").is_in(train_ids)).select('target'))\n",
        "\n",
        "  y_test = (data.filter(pl.col(\"sequence_id\").is_in(test_ids)).select('target'))\n",
        "\n",
        "  data_dic['y_train'+suffix] = np.asarray(y_train)\n",
        "  data_dic['y_test'+suffix] = np.asarray(y_test)\n"
      ],
      "metadata": {
        "id": "hwu0ZQ91-K_3"
      },
      "execution_count": 14,
      "outputs": []
    },
    {
      "cell_type": "code",
      "source": [
        "# Compile & Fit Stage 1 models\n",
        "hist = {}\n",
        "\n",
        "for suffix in [\"_o\", \"_b\", \"_p\"]:\n",
        "  start = datetime.now()\n",
        "\n",
        "  print(type(data_dic['X_train']))\n",
        "  print(type(data_dic['y_train'+suffix]))\n",
        "\n",
        "  models[suffix].compile(loss=model_info['loss'], optimizer=\"adam\",#model_info['optimizer'],\n",
        "                         metrics=[\"accuracy\"])\n",
        "  hist[suffix] = models[suffix].fit(\n",
        "      x = data_dic['X_train'],\n",
        "      y = data_dic['y_train'+suffix],\n",
        "      epochs=model_info['epochs'],\n",
        "      callbacks=[TimeCallback()],\n",
        "      validation_split=0.2,\n",
        "      )\n",
        "\n",
        "  stop = datetime.now()\n",
        "  #model_info['tdelta'] = str(stop-start)\n",
        "  print(\"model\"+suffix+\" Runtime: \", str(stop-start))\n",
        "\n"
      ],
      "metadata": {
        "colab": {
          "base_uri": "https://localhost:8080/"
        },
        "id": "tQeXd8I1SJtm",
        "outputId": "93733d3d-605e-4a7b-a27d-630ec8697fe2"
      },
      "execution_count": 23,
      "outputs": [
        {
          "output_type": "stream",
          "name": "stdout",
          "text": [
            "<class 'numpy.ndarray'>\n",
            "<class 'numpy.ndarray'>\n",
            "2025-07-08 23:18:07 ---Epoch 1/5\n",
            "\u001b[1m37/37\u001b[0m \u001b[32m━━━━━━━━━━━━━━━━━━━━\u001b[0m\u001b[37m\u001b[0m \u001b[1m2s\u001b[0m 20ms/step - accuracy: 0.8303 - loss: 0.4124 - val_accuracy: 0.2983 - val_loss: 2.1939\n",
            "2025-07-08 23:18:09 ---Epoch 2/5\n",
            "\u001b[1m37/37\u001b[0m \u001b[32m━━━━━━━━━━━━━━━━━━━━\u001b[0m\u001b[37m\u001b[0m \u001b[1m1s\u001b[0m 13ms/step - accuracy: 0.8611 - loss: 0.3394 - val_accuracy: 0.2576 - val_loss: 2.1626\n",
            "2025-07-08 23:18:10 ---Epoch 3/5\n",
            "\u001b[1m37/37\u001b[0m \u001b[32m━━━━━━━━━━━━━━━━━━━━\u001b[0m\u001b[37m\u001b[0m \u001b[1m1s\u001b[0m 13ms/step - accuracy: 0.8534 - loss: 0.3566 - val_accuracy: 0.2983 - val_loss: 2.2325\n",
            "2025-07-08 23:18:11 ---Epoch 4/5\n",
            "\u001b[1m37/37\u001b[0m \u001b[32m━━━━━━━━━━━━━━━━━━━━\u001b[0m\u001b[37m\u001b[0m \u001b[1m1s\u001b[0m 13ms/step - accuracy: 0.8782 - loss: 0.3037 - val_accuracy: 0.2508 - val_loss: 2.3467\n",
            "2025-07-08 23:18:12 ---Epoch 5/5\n",
            "\u001b[1m37/37\u001b[0m \u001b[32m━━━━━━━━━━━━━━━━━━━━\u001b[0m\u001b[37m\u001b[0m \u001b[1m1s\u001b[0m 14ms/step - accuracy: 0.8969 - loss: 0.2957 - val_accuracy: 0.2881 - val_loss: 2.2583\n",
            "model_o Runtime:  0:00:05.478180\n",
            "<class 'numpy.ndarray'>\n",
            "<class 'numpy.ndarray'>\n",
            "2025-07-08 23:18:13 ---Epoch 1/5\n",
            "\u001b[1m37/37\u001b[0m \u001b[32m━━━━━━━━━━━━━━━━━━━━\u001b[0m\u001b[37m\u001b[0m \u001b[1m2s\u001b[0m 13ms/step - accuracy: 0.4374 - loss: 1.2721 - val_accuracy: 0.5017 - val_loss: 1.1325\n",
            "2025-07-08 23:18:15 ---Epoch 2/5\n",
            "\u001b[1m37/37\u001b[0m \u001b[32m━━━━━━━━━━━━━━━━━━━━\u001b[0m\u001b[37m\u001b[0m \u001b[1m0s\u001b[0m 7ms/step - accuracy: 0.6420 - loss: 0.9430 - val_accuracy: 0.5559 - val_loss: 1.0379\n",
            "2025-07-08 23:18:15 ---Epoch 3/5\n",
            "\u001b[1m37/37\u001b[0m \u001b[32m━━━━━━━━━━━━━━━━━━━━\u001b[0m\u001b[37m\u001b[0m \u001b[1m0s\u001b[0m 8ms/step - accuracy: 0.6658 - loss: 0.8313 - val_accuracy: 0.5661 - val_loss: 1.0726\n",
            "2025-07-08 23:18:15 ---Epoch 4/5\n",
            "\u001b[1m37/37\u001b[0m \u001b[32m━━━━━━━━━━━━━━━━━━━━\u001b[0m\u001b[37m\u001b[0m \u001b[1m1s\u001b[0m 7ms/step - accuracy: 0.6486 - loss: 0.8485 - val_accuracy: 0.5288 - val_loss: 1.1910\n",
            "2025-07-08 23:18:16 ---Epoch 5/5\n",
            "\u001b[1m37/37\u001b[0m \u001b[32m━━━━━━━━━━━━━━━━━━━━\u001b[0m\u001b[37m\u001b[0m \u001b[1m0s\u001b[0m 8ms/step - accuracy: 0.6798 - loss: 0.7774 - val_accuracy: 0.4305 - val_loss: 1.4117\n",
            "model_b Runtime:  0:00:03.937624\n",
            "<class 'numpy.ndarray'>\n",
            "<class 'numpy.ndarray'>\n",
            "2025-07-08 23:18:16 ---Epoch 1/5\n",
            "\u001b[1m37/37\u001b[0m \u001b[32m━━━━━━━━━━━━━━━━━━━━\u001b[0m\u001b[37m\u001b[0m \u001b[1m2s\u001b[0m 14ms/step - accuracy: 0.6158 - loss: 0.6915 - val_accuracy: 0.6678 - val_loss: 0.5958\n",
            "2025-07-08 23:18:19 ---Epoch 2/5\n",
            "\u001b[1m37/37\u001b[0m \u001b[32m━━━━━━━━━━━━━━━━━━━━\u001b[0m\u001b[37m\u001b[0m \u001b[1m0s\u001b[0m 7ms/step - accuracy: 0.7031 - loss: 0.5688 - val_accuracy: 0.6610 - val_loss: 0.6004\n",
            "2025-07-08 23:18:19 ---Epoch 3/5\n",
            "\u001b[1m37/37\u001b[0m \u001b[32m━━━━━━━━━━━━━━━━━━━━\u001b[0m\u001b[37m\u001b[0m \u001b[1m0s\u001b[0m 8ms/step - accuracy: 0.7317 - loss: 0.5177 - val_accuracy: 0.6339 - val_loss: 0.6462\n",
            "2025-07-08 23:18:19 ---Epoch 4/5\n",
            "\u001b[1m37/37\u001b[0m \u001b[32m━━━━━━━━━━━━━━━━━━━━\u001b[0m\u001b[37m\u001b[0m \u001b[1m1s\u001b[0m 9ms/step - accuracy: 0.7561 - loss: 0.5026 - val_accuracy: 0.6949 - val_loss: 0.5615\n",
            "2025-07-08 23:18:20 ---Epoch 5/5\n",
            "\u001b[1m37/37\u001b[0m \u001b[32m━━━━━━━━━━━━━━━━━━━━\u001b[0m\u001b[37m\u001b[0m \u001b[1m1s\u001b[0m 8ms/step - accuracy: 0.7643 - loss: 0.4756 - val_accuracy: 0.5763 - val_loss: 0.6923\n",
            "model_p Runtime:  0:00:04.159695\n"
          ]
        }
      ]
    },
    {
      "cell_type": "code",
      "source": [
        "# Build, Compile, & Fit Stage 2 models\n",
        "# \"_o\", \"_b\", \"_p\"\n",
        "\n",
        "model_s = keras.Sequential(\n",
        "            [\n",
        "                keras.Input(shape=(10,)),\n",
        "                keras.layers.Dense(32, activation=model_info['activation']),\n",
        "                keras.layers.Dense(64, activation=model_info['activation']),\n",
        "                keras.layers.Dense(32, activation=model_info['activation']),\n",
        "                keras.layers.Dense(2, activation=model_info['final_activation']),\n",
        "            ],\n",
        "            name = 'DNN-cmi-sequence'\n",
        "            )\n",
        "\n",
        "inp       = keras.Input(shape=(320,)),   # or whatever raw shape you need\n",
        "out_o      = models[\"_o\"](inp)                    # <-- CALL; now outA is a tensor\n",
        "out_b      = models[\"_b\"](inp)\n",
        "out_p      = models[\"_p\"](inp)\n",
        "\n",
        "merged    = keras.layers.Concatenate()([out_o, out_b, out_p])\n",
        "#x         = keras.layers.Dense(128, activation=\"relu\")(merged)\n",
        "#final_out = keras.layers.Dense(num_classes, activation=\"softmax\")(x)\n",
        "\n",
        "#combo     = keras.Model(inp, final_out)\n",
        "#merged = keras.layers.Concatenate(axis=-1)([models[\"_o\"].output, models[\"_b\"].output, models[\"_p\"].output]),\n",
        "x = keras.layers.Dense(32, activation=\"relu\")(merged)\n",
        "#x = keras.layers.Dropout(0.3)(x)\n",
        "final_out_g = keras.layers.Dense(18, activation=\"softmax\")(x)\n",
        "final_out_s = keras.layers.Dense(2, activation=\"softmax\")(x)\n",
        "\n",
        "model_g = keras.Model(inputs = inp, outputs=final_out_g)\n",
        "print(model_g.summary())\n",
        "\n",
        "start = datetime.now()\n",
        "model_g.compile(loss=model_info['loss'], optimizer=\"adam\",#model_info['optimizer'],\n",
        "                         metrics=[\"accuracy\"])\n",
        "hist_g = model_g.fit(\n",
        "      x = data_dic['X_train'],\n",
        "      y = data_dic['y_train_g'],\n",
        "      epochs=model_info['epochs'],\n",
        "      callbacks=[TimeCallback()],\n",
        "      validation_split=0.2,\n",
        "      )\n",
        "\n",
        "stop = datetime.now()\n",
        "#model_info['tdelta'] = str(stop-start)\n",
        "print(\"model_g Runtime: \", str(stop-start))\n",
        "\n",
        "model_s = keras.Model(inputs = inp, outputs=final_out_s)\n",
        "print(model_s.summary())\n",
        "\n",
        "start = datetime.now()\n",
        "model_s.compile(loss=model_info['loss'], optimizer=\"adam\",#model_info['optimizer'],\n",
        "                         metrics=[\"accuracy\"])\n",
        "hist_s = model_s.fit(\n",
        "      x = data_dic['X_train'],\n",
        "      y = data_dic['y_train_s'],\n",
        "      epochs=model_info['epochs'],\n",
        "      callbacks=[TimeCallback()],\n",
        "      validation_split=0.2,\n",
        "      )\n",
        "\n",
        "stop = datetime.now()\n",
        "#model_info['tdelta'] = str(stop-start)\n",
        "print(\"model_s Runtime: \", str(stop-start))"
      ],
      "metadata": {
        "colab": {
          "base_uri": "https://localhost:8080/",
          "height": 1000
        },
        "id": "Yw6B4ofdWa1l",
        "outputId": "43efbac6-6978-4ce0-d796-802cf5a0531e"
      },
      "execution_count": 29,
      "outputs": [
        {
          "output_type": "display_data",
          "data": {
            "text/plain": [
              "\u001b[1mModel: \"functional_19\"\u001b[0m\n"
            ],
            "text/html": [
              "<pre style=\"white-space:pre;overflow-x:auto;line-height:normal;font-family:Menlo,'DejaVu Sans Mono',consolas,'Courier New',monospace\"><span style=\"font-weight: bold\">Model: \"functional_19\"</span>\n",
              "</pre>\n"
            ]
          },
          "metadata": {}
        },
        {
          "output_type": "display_data",
          "data": {
            "text/plain": [
              "┏━━━━━━━━━━━━━━━━━━━━━┳━━━━━━━━━━━━━━━━━━━┳━━━━━━━━━━━━┳━━━━━━━━━━━━━━━━━━━┓\n",
              "┃\u001b[1m \u001b[0m\u001b[1mLayer (type)       \u001b[0m\u001b[1m \u001b[0m┃\u001b[1m \u001b[0m\u001b[1mOutput Shape     \u001b[0m\u001b[1m \u001b[0m┃\u001b[1m \u001b[0m\u001b[1m   Param #\u001b[0m\u001b[1m \u001b[0m┃\u001b[1m \u001b[0m\u001b[1mConnected to     \u001b[0m\u001b[1m \u001b[0m┃\n",
              "┡━━━━━━━━━━━━━━━━━━━━━╇━━━━━━━━━━━━━━━━━━━╇━━━━━━━━━━━━╇━━━━━━━━━━━━━━━━━━━┩\n",
              "│ input_layer_20      │ (\u001b[38;5;45mNone\u001b[0m, \u001b[38;5;34m320\u001b[0m)       │          \u001b[38;5;34m0\u001b[0m │ -                 │\n",
              "│ (\u001b[38;5;33mInputLayer\u001b[0m)        │                   │            │                   │\n",
              "├─────────────────────┼───────────────────┼────────────┼───────────────────┤\n",
              "│ DNN-cmi-orientation │ (\u001b[38;5;45mNone\u001b[0m, \u001b[38;5;34m4\u001b[0m)         │    \u001b[38;5;34m119,332\u001b[0m │ input_layer_20[\u001b[38;5;34m0\u001b[0m… │\n",
              "│ (\u001b[38;5;33mSequential\u001b[0m)        │                   │            │                   │\n",
              "├─────────────────────┼───────────────────┼────────────┼───────────────────┤\n",
              "│ DNN-cmi-behavior    │ (\u001b[38;5;45mNone\u001b[0m, \u001b[38;5;34m4\u001b[0m)         │    \u001b[38;5;34m119,332\u001b[0m │ input_layer_20[\u001b[38;5;34m0\u001b[0m… │\n",
              "│ (\u001b[38;5;33mSequential\u001b[0m)        │                   │            │                   │\n",
              "├─────────────────────┼───────────────────┼────────────┼───────────────────┤\n",
              "│ DNN-cmi-phase       │ (\u001b[38;5;45mNone\u001b[0m, \u001b[38;5;34m2\u001b[0m)         │    \u001b[38;5;34m119,266\u001b[0m │ input_layer_20[\u001b[38;5;34m0\u001b[0m… │\n",
              "│ (\u001b[38;5;33mSequential\u001b[0m)        │                   │            │                   │\n",
              "├─────────────────────┼───────────────────┼────────────┼───────────────────┤\n",
              "│ concatenate_4       │ (\u001b[38;5;45mNone\u001b[0m, \u001b[38;5;34m10\u001b[0m)        │          \u001b[38;5;34m0\u001b[0m │ DNN-cmi-orientat… │\n",
              "│ (\u001b[38;5;33mConcatenate\u001b[0m)       │                   │            │ DNN-cmi-behavior… │\n",
              "│                     │                   │            │ DNN-cmi-phase[\u001b[38;5;34m2\u001b[0m]… │\n",
              "├─────────────────────┼───────────────────┼────────────┼───────────────────┤\n",
              "│ dense_69 (\u001b[38;5;33mDense\u001b[0m)    │ (\u001b[38;5;45mNone\u001b[0m, \u001b[38;5;34m32\u001b[0m)        │        \u001b[38;5;34m352\u001b[0m │ concatenate_4[\u001b[38;5;34m0\u001b[0m]… │\n",
              "├─────────────────────┼───────────────────┼────────────┼───────────────────┤\n",
              "│ dense_70 (\u001b[38;5;33mDense\u001b[0m)    │ (\u001b[38;5;45mNone\u001b[0m, \u001b[38;5;34m18\u001b[0m)        │        \u001b[38;5;34m594\u001b[0m │ dense_69[\u001b[38;5;34m0\u001b[0m][\u001b[38;5;34m0\u001b[0m]    │\n",
              "└─────────────────────┴───────────────────┴────────────┴───────────────────┘\n"
            ],
            "text/html": [
              "<pre style=\"white-space:pre;overflow-x:auto;line-height:normal;font-family:Menlo,'DejaVu Sans Mono',consolas,'Courier New',monospace\">┏━━━━━━━━━━━━━━━━━━━━━┳━━━━━━━━━━━━━━━━━━━┳━━━━━━━━━━━━┳━━━━━━━━━━━━━━━━━━━┓\n",
              "┃<span style=\"font-weight: bold\"> Layer (type)        </span>┃<span style=\"font-weight: bold\"> Output Shape      </span>┃<span style=\"font-weight: bold\">    Param # </span>┃<span style=\"font-weight: bold\"> Connected to      </span>┃\n",
              "┡━━━━━━━━━━━━━━━━━━━━━╇━━━━━━━━━━━━━━━━━━━╇━━━━━━━━━━━━╇━━━━━━━━━━━━━━━━━━━┩\n",
              "│ input_layer_20      │ (<span style=\"color: #00d7ff; text-decoration-color: #00d7ff\">None</span>, <span style=\"color: #00af00; text-decoration-color: #00af00\">320</span>)       │          <span style=\"color: #00af00; text-decoration-color: #00af00\">0</span> │ -                 │\n",
              "│ (<span style=\"color: #0087ff; text-decoration-color: #0087ff\">InputLayer</span>)        │                   │            │                   │\n",
              "├─────────────────────┼───────────────────┼────────────┼───────────────────┤\n",
              "│ DNN-cmi-orientation │ (<span style=\"color: #00d7ff; text-decoration-color: #00d7ff\">None</span>, <span style=\"color: #00af00; text-decoration-color: #00af00\">4</span>)         │    <span style=\"color: #00af00; text-decoration-color: #00af00\">119,332</span> │ input_layer_20[<span style=\"color: #00af00; text-decoration-color: #00af00\">0</span>… │\n",
              "│ (<span style=\"color: #0087ff; text-decoration-color: #0087ff\">Sequential</span>)        │                   │            │                   │\n",
              "├─────────────────────┼───────────────────┼────────────┼───────────────────┤\n",
              "│ DNN-cmi-behavior    │ (<span style=\"color: #00d7ff; text-decoration-color: #00d7ff\">None</span>, <span style=\"color: #00af00; text-decoration-color: #00af00\">4</span>)         │    <span style=\"color: #00af00; text-decoration-color: #00af00\">119,332</span> │ input_layer_20[<span style=\"color: #00af00; text-decoration-color: #00af00\">0</span>… │\n",
              "│ (<span style=\"color: #0087ff; text-decoration-color: #0087ff\">Sequential</span>)        │                   │            │                   │\n",
              "├─────────────────────┼───────────────────┼────────────┼───────────────────┤\n",
              "│ DNN-cmi-phase       │ (<span style=\"color: #00d7ff; text-decoration-color: #00d7ff\">None</span>, <span style=\"color: #00af00; text-decoration-color: #00af00\">2</span>)         │    <span style=\"color: #00af00; text-decoration-color: #00af00\">119,266</span> │ input_layer_20[<span style=\"color: #00af00; text-decoration-color: #00af00\">0</span>… │\n",
              "│ (<span style=\"color: #0087ff; text-decoration-color: #0087ff\">Sequential</span>)        │                   │            │                   │\n",
              "├─────────────────────┼───────────────────┼────────────┼───────────────────┤\n",
              "│ concatenate_4       │ (<span style=\"color: #00d7ff; text-decoration-color: #00d7ff\">None</span>, <span style=\"color: #00af00; text-decoration-color: #00af00\">10</span>)        │          <span style=\"color: #00af00; text-decoration-color: #00af00\">0</span> │ DNN-cmi-orientat… │\n",
              "│ (<span style=\"color: #0087ff; text-decoration-color: #0087ff\">Concatenate</span>)       │                   │            │ DNN-cmi-behavior… │\n",
              "│                     │                   │            │ DNN-cmi-phase[<span style=\"color: #00af00; text-decoration-color: #00af00\">2</span>]… │\n",
              "├─────────────────────┼───────────────────┼────────────┼───────────────────┤\n",
              "│ dense_69 (<span style=\"color: #0087ff; text-decoration-color: #0087ff\">Dense</span>)    │ (<span style=\"color: #00d7ff; text-decoration-color: #00d7ff\">None</span>, <span style=\"color: #00af00; text-decoration-color: #00af00\">32</span>)        │        <span style=\"color: #00af00; text-decoration-color: #00af00\">352</span> │ concatenate_4[<span style=\"color: #00af00; text-decoration-color: #00af00\">0</span>]… │\n",
              "├─────────────────────┼───────────────────┼────────────┼───────────────────┤\n",
              "│ dense_70 (<span style=\"color: #0087ff; text-decoration-color: #0087ff\">Dense</span>)    │ (<span style=\"color: #00d7ff; text-decoration-color: #00d7ff\">None</span>, <span style=\"color: #00af00; text-decoration-color: #00af00\">18</span>)        │        <span style=\"color: #00af00; text-decoration-color: #00af00\">594</span> │ dense_69[<span style=\"color: #00af00; text-decoration-color: #00af00\">0</span>][<span style=\"color: #00af00; text-decoration-color: #00af00\">0</span>]    │\n",
              "└─────────────────────┴───────────────────┴────────────┴───────────────────┘\n",
              "</pre>\n"
            ]
          },
          "metadata": {}
        },
        {
          "output_type": "display_data",
          "data": {
            "text/plain": [
              "\u001b[1m Total params: \u001b[0m\u001b[38;5;34m358,876\u001b[0m (1.37 MB)\n"
            ],
            "text/html": [
              "<pre style=\"white-space:pre;overflow-x:auto;line-height:normal;font-family:Menlo,'DejaVu Sans Mono',consolas,'Courier New',monospace\"><span style=\"font-weight: bold\"> Total params: </span><span style=\"color: #00af00; text-decoration-color: #00af00\">358,876</span> (1.37 MB)\n",
              "</pre>\n"
            ]
          },
          "metadata": {}
        },
        {
          "output_type": "display_data",
          "data": {
            "text/plain": [
              "\u001b[1m Trainable params: \u001b[0m\u001b[38;5;34m358,876\u001b[0m (1.37 MB)\n"
            ],
            "text/html": [
              "<pre style=\"white-space:pre;overflow-x:auto;line-height:normal;font-family:Menlo,'DejaVu Sans Mono',consolas,'Courier New',monospace\"><span style=\"font-weight: bold\"> Trainable params: </span><span style=\"color: #00af00; text-decoration-color: #00af00\">358,876</span> (1.37 MB)\n",
              "</pre>\n"
            ]
          },
          "metadata": {}
        },
        {
          "output_type": "display_data",
          "data": {
            "text/plain": [
              "\u001b[1m Non-trainable params: \u001b[0m\u001b[38;5;34m0\u001b[0m (0.00 B)\n"
            ],
            "text/html": [
              "<pre style=\"white-space:pre;overflow-x:auto;line-height:normal;font-family:Menlo,'DejaVu Sans Mono',consolas,'Courier New',monospace\"><span style=\"font-weight: bold\"> Non-trainable params: </span><span style=\"color: #00af00; text-decoration-color: #00af00\">0</span> (0.00 B)\n",
              "</pre>\n"
            ]
          },
          "metadata": {}
        },
        {
          "output_type": "stream",
          "name": "stdout",
          "text": [
            "None\n",
            "2025-07-08 23:43:13 ---Epoch 1/5\n"
          ]
        },
        {
          "output_type": "stream",
          "name": "stderr",
          "text": [
            "/usr/local/lib/python3.11/dist-packages/keras/src/models/functional.py:237: UserWarning: The structure of `inputs` doesn't match the expected structure.\n",
            "Expected: ('keras_tensor_97',)\n",
            "Received: inputs=Tensor(shape=(None, 320))\n",
            "  warnings.warn(msg)\n",
            "/usr/local/lib/python3.11/dist-packages/keras/src/models/functional.py:237: UserWarning: The structure of `inputs` doesn't match the expected structure.\n",
            "Expected: keras_tensor_25\n",
            "Received: inputs=('Tensor(shape=(None, 320))',)\n",
            "  warnings.warn(msg)\n",
            "/usr/local/lib/python3.11/dist-packages/keras/src/models/functional.py:237: UserWarning: The structure of `inputs` doesn't match the expected structure.\n",
            "Expected: keras_tensor_30\n",
            "Received: inputs=('Tensor(shape=(None, 320))',)\n",
            "  warnings.warn(msg)\n",
            "/usr/local/lib/python3.11/dist-packages/keras/src/models/functional.py:237: UserWarning: The structure of `inputs` doesn't match the expected structure.\n",
            "Expected: keras_tensor_35\n",
            "Received: inputs=('Tensor(shape=(None, 320))',)\n",
            "  warnings.warn(msg)\n"
          ]
        },
        {
          "output_type": "stream",
          "name": "stdout",
          "text": [
            "\u001b[1m37/37\u001b[0m \u001b[32m━━━━━━━━━━━━━━━━━━━━\u001b[0m\u001b[37m\u001b[0m \u001b[1m7s\u001b[0m 23ms/step - accuracy: 0.1744 - loss: 2.7371 - val_accuracy: 0.1864 - val_loss: 3.0747\n",
            "2025-07-08 23:43:19 ---Epoch 2/5\n",
            "\u001b[1m37/37\u001b[0m \u001b[32m━━━━━━━━━━━━━━━━━━━━\u001b[0m\u001b[37m\u001b[0m \u001b[1m1s\u001b[0m 15ms/step - accuracy: 0.4178 - loss: 2.4192 - val_accuracy: 0.1729 - val_loss: 3.0440\n",
            "2025-07-08 23:43:20 ---Epoch 3/5\n",
            "\u001b[1m37/37\u001b[0m \u001b[32m━━━━━━━━━━━━━━━━━━━━\u001b[0m\u001b[37m\u001b[0m \u001b[1m1s\u001b[0m 13ms/step - accuracy: 0.4239 - loss: 2.1955 - val_accuracy: 0.1831 - val_loss: 2.9530\n",
            "2025-07-08 23:43:21 ---Epoch 4/5\n",
            "\u001b[1m37/37\u001b[0m \u001b[32m━━━━━━━━━━━━━━━━━━━━\u001b[0m\u001b[37m\u001b[0m \u001b[1m1s\u001b[0m 12ms/step - accuracy: 0.4474 - loss: 2.0177 - val_accuracy: 0.1763 - val_loss: 2.9620\n",
            "2025-07-08 23:43:22 ---Epoch 5/5\n",
            "\u001b[1m37/37\u001b[0m \u001b[32m━━━━━━━━━━━━━━━━━━━━\u001b[0m\u001b[37m\u001b[0m \u001b[1m0s\u001b[0m 11ms/step - accuracy: 0.4327 - loss: 1.8930 - val_accuracy: 0.1864 - val_loss: 2.9269\n",
            "model_g Runtime:  0:00:09.226625\n"
          ]
        },
        {
          "output_type": "display_data",
          "data": {
            "text/plain": [
              "\u001b[1mModel: \"functional_20\"\u001b[0m\n"
            ],
            "text/html": [
              "<pre style=\"white-space:pre;overflow-x:auto;line-height:normal;font-family:Menlo,'DejaVu Sans Mono',consolas,'Courier New',monospace\"><span style=\"font-weight: bold\">Model: \"functional_20\"</span>\n",
              "</pre>\n"
            ]
          },
          "metadata": {}
        },
        {
          "output_type": "display_data",
          "data": {
            "text/plain": [
              "┏━━━━━━━━━━━━━━━━━━━━━┳━━━━━━━━━━━━━━━━━━━┳━━━━━━━━━━━━┳━━━━━━━━━━━━━━━━━━━┓\n",
              "┃\u001b[1m \u001b[0m\u001b[1mLayer (type)       \u001b[0m\u001b[1m \u001b[0m┃\u001b[1m \u001b[0m\u001b[1mOutput Shape     \u001b[0m\u001b[1m \u001b[0m┃\u001b[1m \u001b[0m\u001b[1m   Param #\u001b[0m\u001b[1m \u001b[0m┃\u001b[1m \u001b[0m\u001b[1mConnected to     \u001b[0m\u001b[1m \u001b[0m┃\n",
              "┡━━━━━━━━━━━━━━━━━━━━━╇━━━━━━━━━━━━━━━━━━━╇━━━━━━━━━━━━╇━━━━━━━━━━━━━━━━━━━┩\n",
              "│ input_layer_20      │ (\u001b[38;5;45mNone\u001b[0m, \u001b[38;5;34m320\u001b[0m)       │          \u001b[38;5;34m0\u001b[0m │ -                 │\n",
              "│ (\u001b[38;5;33mInputLayer\u001b[0m)        │                   │            │                   │\n",
              "├─────────────────────┼───────────────────┼────────────┼───────────────────┤\n",
              "│ DNN-cmi-orientation │ (\u001b[38;5;45mNone\u001b[0m, \u001b[38;5;34m4\u001b[0m)         │    \u001b[38;5;34m119,332\u001b[0m │ input_layer_20[\u001b[38;5;34m0\u001b[0m… │\n",
              "│ (\u001b[38;5;33mSequential\u001b[0m)        │                   │            │                   │\n",
              "├─────────────────────┼───────────────────┼────────────┼───────────────────┤\n",
              "│ DNN-cmi-behavior    │ (\u001b[38;5;45mNone\u001b[0m, \u001b[38;5;34m4\u001b[0m)         │    \u001b[38;5;34m119,332\u001b[0m │ input_layer_20[\u001b[38;5;34m0\u001b[0m… │\n",
              "│ (\u001b[38;5;33mSequential\u001b[0m)        │                   │            │                   │\n",
              "├─────────────────────┼───────────────────┼────────────┼───────────────────┤\n",
              "│ DNN-cmi-phase       │ (\u001b[38;5;45mNone\u001b[0m, \u001b[38;5;34m2\u001b[0m)         │    \u001b[38;5;34m119,266\u001b[0m │ input_layer_20[\u001b[38;5;34m0\u001b[0m… │\n",
              "│ (\u001b[38;5;33mSequential\u001b[0m)        │                   │            │                   │\n",
              "├─────────────────────┼───────────────────┼────────────┼───────────────────┤\n",
              "│ concatenate_4       │ (\u001b[38;5;45mNone\u001b[0m, \u001b[38;5;34m10\u001b[0m)        │          \u001b[38;5;34m0\u001b[0m │ DNN-cmi-orientat… │\n",
              "│ (\u001b[38;5;33mConcatenate\u001b[0m)       │                   │            │ DNN-cmi-behavior… │\n",
              "│                     │                   │            │ DNN-cmi-phase[\u001b[38;5;34m2\u001b[0m]… │\n",
              "├─────────────────────┼───────────────────┼────────────┼───────────────────┤\n",
              "│ dense_69 (\u001b[38;5;33mDense\u001b[0m)    │ (\u001b[38;5;45mNone\u001b[0m, \u001b[38;5;34m32\u001b[0m)        │        \u001b[38;5;34m352\u001b[0m │ concatenate_4[\u001b[38;5;34m0\u001b[0m]… │\n",
              "├─────────────────────┼───────────────────┼────────────┼───────────────────┤\n",
              "│ dense_71 (\u001b[38;5;33mDense\u001b[0m)    │ (\u001b[38;5;45mNone\u001b[0m, \u001b[38;5;34m2\u001b[0m)         │         \u001b[38;5;34m66\u001b[0m │ dense_69[\u001b[38;5;34m0\u001b[0m][\u001b[38;5;34m0\u001b[0m]    │\n",
              "└─────────────────────┴───────────────────┴────────────┴───────────────────┘\n"
            ],
            "text/html": [
              "<pre style=\"white-space:pre;overflow-x:auto;line-height:normal;font-family:Menlo,'DejaVu Sans Mono',consolas,'Courier New',monospace\">┏━━━━━━━━━━━━━━━━━━━━━┳━━━━━━━━━━━━━━━━━━━┳━━━━━━━━━━━━┳━━━━━━━━━━━━━━━━━━━┓\n",
              "┃<span style=\"font-weight: bold\"> Layer (type)        </span>┃<span style=\"font-weight: bold\"> Output Shape      </span>┃<span style=\"font-weight: bold\">    Param # </span>┃<span style=\"font-weight: bold\"> Connected to      </span>┃\n",
              "┡━━━━━━━━━━━━━━━━━━━━━╇━━━━━━━━━━━━━━━━━━━╇━━━━━━━━━━━━╇━━━━━━━━━━━━━━━━━━━┩\n",
              "│ input_layer_20      │ (<span style=\"color: #00d7ff; text-decoration-color: #00d7ff\">None</span>, <span style=\"color: #00af00; text-decoration-color: #00af00\">320</span>)       │          <span style=\"color: #00af00; text-decoration-color: #00af00\">0</span> │ -                 │\n",
              "│ (<span style=\"color: #0087ff; text-decoration-color: #0087ff\">InputLayer</span>)        │                   │            │                   │\n",
              "├─────────────────────┼───────────────────┼────────────┼───────────────────┤\n",
              "│ DNN-cmi-orientation │ (<span style=\"color: #00d7ff; text-decoration-color: #00d7ff\">None</span>, <span style=\"color: #00af00; text-decoration-color: #00af00\">4</span>)         │    <span style=\"color: #00af00; text-decoration-color: #00af00\">119,332</span> │ input_layer_20[<span style=\"color: #00af00; text-decoration-color: #00af00\">0</span>… │\n",
              "│ (<span style=\"color: #0087ff; text-decoration-color: #0087ff\">Sequential</span>)        │                   │            │                   │\n",
              "├─────────────────────┼───────────────────┼────────────┼───────────────────┤\n",
              "│ DNN-cmi-behavior    │ (<span style=\"color: #00d7ff; text-decoration-color: #00d7ff\">None</span>, <span style=\"color: #00af00; text-decoration-color: #00af00\">4</span>)         │    <span style=\"color: #00af00; text-decoration-color: #00af00\">119,332</span> │ input_layer_20[<span style=\"color: #00af00; text-decoration-color: #00af00\">0</span>… │\n",
              "│ (<span style=\"color: #0087ff; text-decoration-color: #0087ff\">Sequential</span>)        │                   │            │                   │\n",
              "├─────────────────────┼───────────────────┼────────────┼───────────────────┤\n",
              "│ DNN-cmi-phase       │ (<span style=\"color: #00d7ff; text-decoration-color: #00d7ff\">None</span>, <span style=\"color: #00af00; text-decoration-color: #00af00\">2</span>)         │    <span style=\"color: #00af00; text-decoration-color: #00af00\">119,266</span> │ input_layer_20[<span style=\"color: #00af00; text-decoration-color: #00af00\">0</span>… │\n",
              "│ (<span style=\"color: #0087ff; text-decoration-color: #0087ff\">Sequential</span>)        │                   │            │                   │\n",
              "├─────────────────────┼───────────────────┼────────────┼───────────────────┤\n",
              "│ concatenate_4       │ (<span style=\"color: #00d7ff; text-decoration-color: #00d7ff\">None</span>, <span style=\"color: #00af00; text-decoration-color: #00af00\">10</span>)        │          <span style=\"color: #00af00; text-decoration-color: #00af00\">0</span> │ DNN-cmi-orientat… │\n",
              "│ (<span style=\"color: #0087ff; text-decoration-color: #0087ff\">Concatenate</span>)       │                   │            │ DNN-cmi-behavior… │\n",
              "│                     │                   │            │ DNN-cmi-phase[<span style=\"color: #00af00; text-decoration-color: #00af00\">2</span>]… │\n",
              "├─────────────────────┼───────────────────┼────────────┼───────────────────┤\n",
              "│ dense_69 (<span style=\"color: #0087ff; text-decoration-color: #0087ff\">Dense</span>)    │ (<span style=\"color: #00d7ff; text-decoration-color: #00d7ff\">None</span>, <span style=\"color: #00af00; text-decoration-color: #00af00\">32</span>)        │        <span style=\"color: #00af00; text-decoration-color: #00af00\">352</span> │ concatenate_4[<span style=\"color: #00af00; text-decoration-color: #00af00\">0</span>]… │\n",
              "├─────────────────────┼───────────────────┼────────────┼───────────────────┤\n",
              "│ dense_71 (<span style=\"color: #0087ff; text-decoration-color: #0087ff\">Dense</span>)    │ (<span style=\"color: #00d7ff; text-decoration-color: #00d7ff\">None</span>, <span style=\"color: #00af00; text-decoration-color: #00af00\">2</span>)         │         <span style=\"color: #00af00; text-decoration-color: #00af00\">66</span> │ dense_69[<span style=\"color: #00af00; text-decoration-color: #00af00\">0</span>][<span style=\"color: #00af00; text-decoration-color: #00af00\">0</span>]    │\n",
              "└─────────────────────┴───────────────────┴────────────┴───────────────────┘\n",
              "</pre>\n"
            ]
          },
          "metadata": {}
        },
        {
          "output_type": "display_data",
          "data": {
            "text/plain": [
              "\u001b[1m Total params: \u001b[0m\u001b[38;5;34m358,348\u001b[0m (1.37 MB)\n"
            ],
            "text/html": [
              "<pre style=\"white-space:pre;overflow-x:auto;line-height:normal;font-family:Menlo,'DejaVu Sans Mono',consolas,'Courier New',monospace\"><span style=\"font-weight: bold\"> Total params: </span><span style=\"color: #00af00; text-decoration-color: #00af00\">358,348</span> (1.37 MB)\n",
              "</pre>\n"
            ]
          },
          "metadata": {}
        },
        {
          "output_type": "display_data",
          "data": {
            "text/plain": [
              "\u001b[1m Trainable params: \u001b[0m\u001b[38;5;34m358,348\u001b[0m (1.37 MB)\n"
            ],
            "text/html": [
              "<pre style=\"white-space:pre;overflow-x:auto;line-height:normal;font-family:Menlo,'DejaVu Sans Mono',consolas,'Courier New',monospace\"><span style=\"font-weight: bold\"> Trainable params: </span><span style=\"color: #00af00; text-decoration-color: #00af00\">358,348</span> (1.37 MB)\n",
              "</pre>\n"
            ]
          },
          "metadata": {}
        },
        {
          "output_type": "display_data",
          "data": {
            "text/plain": [
              "\u001b[1m Non-trainable params: \u001b[0m\u001b[38;5;34m0\u001b[0m (0.00 B)\n"
            ],
            "text/html": [
              "<pre style=\"white-space:pre;overflow-x:auto;line-height:normal;font-family:Menlo,'DejaVu Sans Mono',consolas,'Courier New',monospace\"><span style=\"font-weight: bold\"> Non-trainable params: </span><span style=\"color: #00af00; text-decoration-color: #00af00\">0</span> (0.00 B)\n",
              "</pre>\n"
            ]
          },
          "metadata": {}
        },
        {
          "output_type": "stream",
          "name": "stdout",
          "text": [
            "None\n",
            "2025-07-08 23:43:22 ---Epoch 1/5\n",
            "\u001b[1m37/37\u001b[0m \u001b[32m━━━━━━━━━━━━━━━━━━━━\u001b[0m\u001b[37m\u001b[0m \u001b[1m7s\u001b[0m 23ms/step - accuracy: 0.3209 - loss: 0.9686 - val_accuracy: 0.9966 - val_loss: 0.4954\n",
            "2025-07-08 23:43:29 ---Epoch 2/5\n",
            "\u001b[1m37/37\u001b[0m \u001b[32m━━━━━━━━━━━━━━━━━━━━\u001b[0m\u001b[37m\u001b[0m \u001b[1m0s\u001b[0m 11ms/step - accuracy: 0.7498 - loss: 0.5639 - val_accuracy: 0.9966 - val_loss: 0.2705\n",
            "2025-07-08 23:43:30 ---Epoch 3/5\n",
            "\u001b[1m37/37\u001b[0m \u001b[32m━━━━━━━━━━━━━━━━━━━━\u001b[0m\u001b[37m\u001b[0m \u001b[1m0s\u001b[0m 12ms/step - accuracy: 0.7671 - loss: 0.4836 - val_accuracy: 0.9898 - val_loss: 0.3354\n",
            "2025-07-08 23:43:30 ---Epoch 4/5\n",
            "\u001b[1m37/37\u001b[0m \u001b[32m━━━━━━━━━━━━━━━━━━━━\u001b[0m\u001b[37m\u001b[0m \u001b[1m1s\u001b[0m 11ms/step - accuracy: 0.7927 - loss: 0.4089 - val_accuracy: 0.9932 - val_loss: 0.3548\n",
            "2025-07-08 23:43:31 ---Epoch 5/5\n",
            "\u001b[1m37/37\u001b[0m \u001b[32m━━━━━━━━━━━━━━━━━━━━\u001b[0m\u001b[37m\u001b[0m \u001b[1m1s\u001b[0m 12ms/step - accuracy: 0.8025 - loss: 0.3745 - val_accuracy: 0.9932 - val_loss: 0.4312\n",
            "model_s Runtime:  0:00:09.381643\n"
          ]
        }
      ]
    },
    {
      "cell_type": "code",
      "source": [
        "merged"
      ],
      "metadata": {
        "colab": {
          "base_uri": "https://localhost:8080/"
        },
        "id": "u8cfN_qIbzir",
        "outputId": "84afd5e8-6acb-4ac0-f699-d901a866e7cf"
      },
      "execution_count": 36,
      "outputs": [
        {
          "output_type": "execute_result",
          "data": {
            "text/plain": [
              "<KerasTensor shape=(None, 10), dtype=float32, sparse=False, name=keras_tensor_101>"
            ]
          },
          "metadata": {},
          "execution_count": 36
        }
      ]
    },
    {
      "cell_type": "code",
      "source": [
        "#fit_n_assess_model(nmodel, model_info, data):\n",
        "#nmodel = model\n",
        "#data = data_dic\n",
        "\n",
        "# --------------------------\n",
        "# Run each model\n",
        "#---------------------------\n",
        "print(nmodel.summary())\n",
        "\n",
        "start = datetime.now()\n",
        "\n",
        "# Compile model with MSR as the loss function and SGD as the optimizer\n",
        "nmodel.compile(loss=model_info['loss'], optimizer=model_info['optimizer'], metrics=[\"accuracy\"])\n",
        "\n",
        "print(\"Fit model\")\n",
        "# Fit the model with the training data from the data dictionary.\n",
        "nhist1 = nmodel.fit(x = X_train, y = y_train, epochs=model_info['epochs'],\n",
        "                    callbacks=[TimeCallback()],\n",
        "                    validation_split=0.2,)\n",
        "\n",
        "stop = datetime.now()\n",
        "model_info['tdelta'] = str(stop-start)\n",
        "print(\"Runtime: \", str(stop-start))\n",
        "\n",
        "print(\"Evaluate model\")\n",
        "model_info['test_accuracy'] = str(round(nmodel.evaluate(X_test, y_test, verbose=True)[1],4))\n",
        "print(\"Test accuracy: \",model_info['test_accuracy'])\n",
        "\n",
        "\n",
        "#plot_model_loss(model_info, nhist1.history, title=nmodel.name)\n",
        "#print(\"Loss and accuracy plots saved.\")"
      ],
      "metadata": {
        "id": "kOPr4-e2Ah0X"
      },
      "execution_count": null,
      "outputs": []
    },
    {
      "cell_type": "markdown",
      "source": [
        "## Model: CNN"
      ],
      "metadata": {
        "id": "bn_VnW2gmh39"
      }
    },
    {
      "cell_type": "code",
      "source": [
        "model_info = {\n",
        "        'epochs': 5,\n",
        "        'learning_rate': 0.01,\n",
        "        'loss':  keras.losses.SparseCategoricalCrossentropy(), # multiclass crossentropy\n",
        "        \"activation\": 'relu',\n",
        "        \"final_activation\": 'softmax',\n",
        "}\n",
        "\n",
        "model = keras.Sequential(\n",
        "    [\n",
        "        # Block 1\n",
        "        keras.Input(shape=(8, 8, 5)),\n",
        "        keras.layers.Conv2D(10, kernel_size=(1, 1), activation=model_info['activation']),\n",
        "        #keras.layers.MaxPooling2D(pool_size=(2, 2)),\n",
        "\n",
        "        # Block 2\n",
        "        keras.layers.Conv2D(20, kernel_size=(1, 1), activation=model_info['activation']),\n",
        "        #keras.layers.MaxPooling2D(pool_size=(2, 2)),\n",
        "\n",
        "        keras.layers.Flatten(),\n",
        "        keras.layers.Dense(10, activation=model_info['final_activation']),\n",
        "    ],\n",
        "    name = 'CNN-cmi'\n",
        "    )\n",
        "model.summary()"
      ],
      "metadata": {
        "colab": {
          "base_uri": "https://localhost:8080/",
          "height": 272
        },
        "id": "zK3tKn6-mk9h",
        "outputId": "aa46292b-21d1-439a-8f8a-0239a7e4a387"
      },
      "execution_count": 30,
      "outputs": [
        {
          "output_type": "display_data",
          "data": {
            "text/plain": [
              "\u001b[1mModel: \"CNN-cmi\"\u001b[0m\n"
            ],
            "text/html": [
              "<pre style=\"white-space:pre;overflow-x:auto;line-height:normal;font-family:Menlo,'DejaVu Sans Mono',consolas,'Courier New',monospace\"><span style=\"font-weight: bold\">Model: \"CNN-cmi\"</span>\n",
              "</pre>\n"
            ]
          },
          "metadata": {}
        },
        {
          "output_type": "display_data",
          "data": {
            "text/plain": [
              "┏━━━━━━━━━━━━━━━━━━━━━━━━━━━━━━━━━┳━━━━━━━━━━━━━━━━━━━━━━━━┳━━━━━━━━━━━━━━━┓\n",
              "┃\u001b[1m \u001b[0m\u001b[1mLayer (type)                   \u001b[0m\u001b[1m \u001b[0m┃\u001b[1m \u001b[0m\u001b[1mOutput Shape          \u001b[0m\u001b[1m \u001b[0m┃\u001b[1m \u001b[0m\u001b[1m      Param #\u001b[0m\u001b[1m \u001b[0m┃\n",
              "┡━━━━━━━━━━━━━━━━━━━━━━━━━━━━━━━━━╇━━━━━━━━━━━━━━━━━━━━━━━━╇━━━━━━━━━━━━━━━┩\n",
              "│ conv2d (\u001b[38;5;33mConv2D\u001b[0m)                 │ (\u001b[38;5;45mNone\u001b[0m, \u001b[38;5;34m8\u001b[0m, \u001b[38;5;34m8\u001b[0m, \u001b[38;5;34m10\u001b[0m)       │            \u001b[38;5;34m60\u001b[0m │\n",
              "├─────────────────────────────────┼────────────────────────┼───────────────┤\n",
              "│ conv2d_1 (\u001b[38;5;33mConv2D\u001b[0m)               │ (\u001b[38;5;45mNone\u001b[0m, \u001b[38;5;34m8\u001b[0m, \u001b[38;5;34m8\u001b[0m, \u001b[38;5;34m20\u001b[0m)       │           \u001b[38;5;34m220\u001b[0m │\n",
              "├─────────────────────────────────┼────────────────────────┼───────────────┤\n",
              "│ flatten (\u001b[38;5;33mFlatten\u001b[0m)               │ (\u001b[38;5;45mNone\u001b[0m, \u001b[38;5;34m1280\u001b[0m)           │             \u001b[38;5;34m0\u001b[0m │\n",
              "├─────────────────────────────────┼────────────────────────┼───────────────┤\n",
              "│ dense_72 (\u001b[38;5;33mDense\u001b[0m)                │ (\u001b[38;5;45mNone\u001b[0m, \u001b[38;5;34m10\u001b[0m)             │        \u001b[38;5;34m12,810\u001b[0m │\n",
              "└─────────────────────────────────┴────────────────────────┴───────────────┘\n"
            ],
            "text/html": [
              "<pre style=\"white-space:pre;overflow-x:auto;line-height:normal;font-family:Menlo,'DejaVu Sans Mono',consolas,'Courier New',monospace\">┏━━━━━━━━━━━━━━━━━━━━━━━━━━━━━━━━━┳━━━━━━━━━━━━━━━━━━━━━━━━┳━━━━━━━━━━━━━━━┓\n",
              "┃<span style=\"font-weight: bold\"> Layer (type)                    </span>┃<span style=\"font-weight: bold\"> Output Shape           </span>┃<span style=\"font-weight: bold\">       Param # </span>┃\n",
              "┡━━━━━━━━━━━━━━━━━━━━━━━━━━━━━━━━━╇━━━━━━━━━━━━━━━━━━━━━━━━╇━━━━━━━━━━━━━━━┩\n",
              "│ conv2d (<span style=\"color: #0087ff; text-decoration-color: #0087ff\">Conv2D</span>)                 │ (<span style=\"color: #00d7ff; text-decoration-color: #00d7ff\">None</span>, <span style=\"color: #00af00; text-decoration-color: #00af00\">8</span>, <span style=\"color: #00af00; text-decoration-color: #00af00\">8</span>, <span style=\"color: #00af00; text-decoration-color: #00af00\">10</span>)       │            <span style=\"color: #00af00; text-decoration-color: #00af00\">60</span> │\n",
              "├─────────────────────────────────┼────────────────────────┼───────────────┤\n",
              "│ conv2d_1 (<span style=\"color: #0087ff; text-decoration-color: #0087ff\">Conv2D</span>)               │ (<span style=\"color: #00d7ff; text-decoration-color: #00d7ff\">None</span>, <span style=\"color: #00af00; text-decoration-color: #00af00\">8</span>, <span style=\"color: #00af00; text-decoration-color: #00af00\">8</span>, <span style=\"color: #00af00; text-decoration-color: #00af00\">20</span>)       │           <span style=\"color: #00af00; text-decoration-color: #00af00\">220</span> │\n",
              "├─────────────────────────────────┼────────────────────────┼───────────────┤\n",
              "│ flatten (<span style=\"color: #0087ff; text-decoration-color: #0087ff\">Flatten</span>)               │ (<span style=\"color: #00d7ff; text-decoration-color: #00d7ff\">None</span>, <span style=\"color: #00af00; text-decoration-color: #00af00\">1280</span>)           │             <span style=\"color: #00af00; text-decoration-color: #00af00\">0</span> │\n",
              "├─────────────────────────────────┼────────────────────────┼───────────────┤\n",
              "│ dense_72 (<span style=\"color: #0087ff; text-decoration-color: #0087ff\">Dense</span>)                │ (<span style=\"color: #00d7ff; text-decoration-color: #00d7ff\">None</span>, <span style=\"color: #00af00; text-decoration-color: #00af00\">10</span>)             │        <span style=\"color: #00af00; text-decoration-color: #00af00\">12,810</span> │\n",
              "└─────────────────────────────────┴────────────────────────┴───────────────┘\n",
              "</pre>\n"
            ]
          },
          "metadata": {}
        },
        {
          "output_type": "display_data",
          "data": {
            "text/plain": [
              "\u001b[1m Total params: \u001b[0m\u001b[38;5;34m13,090\u001b[0m (51.13 KB)\n"
            ],
            "text/html": [
              "<pre style=\"white-space:pre;overflow-x:auto;line-height:normal;font-family:Menlo,'DejaVu Sans Mono',consolas,'Courier New',monospace\"><span style=\"font-weight: bold\"> Total params: </span><span style=\"color: #00af00; text-decoration-color: #00af00\">13,090</span> (51.13 KB)\n",
              "</pre>\n"
            ]
          },
          "metadata": {}
        },
        {
          "output_type": "display_data",
          "data": {
            "text/plain": [
              "\u001b[1m Trainable params: \u001b[0m\u001b[38;5;34m13,090\u001b[0m (51.13 KB)\n"
            ],
            "text/html": [
              "<pre style=\"white-space:pre;overflow-x:auto;line-height:normal;font-family:Menlo,'DejaVu Sans Mono',consolas,'Courier New',monospace\"><span style=\"font-weight: bold\"> Trainable params: </span><span style=\"color: #00af00; text-decoration-color: #00af00\">13,090</span> (51.13 KB)\n",
              "</pre>\n"
            ]
          },
          "metadata": {}
        },
        {
          "output_type": "display_data",
          "data": {
            "text/plain": [
              "\u001b[1m Non-trainable params: \u001b[0m\u001b[38;5;34m0\u001b[0m (0.00 B)\n"
            ],
            "text/html": [
              "<pre style=\"white-space:pre;overflow-x:auto;line-height:normal;font-family:Menlo,'DejaVu Sans Mono',consolas,'Courier New',monospace\"><span style=\"font-weight: bold\"> Non-trainable params: </span><span style=\"color: #00af00; text-decoration-color: #00af00\">0</span> (0.00 B)\n",
              "</pre>\n"
            ]
          },
          "metadata": {}
        }
      ]
    },
    {
      "cell_type": "code",
      "source": [
        "data_dic['X_train'] = X_train.to_numpy().reshape(-1, 8, 8, 5) # 5 sensors with 8x8 dist grid\n",
        "data_dic['X_test'] = X_test.to_numpy().reshape(-1, 8, 8,5) # 5 sensors with 8x8 dist grid\n",
        "\n",
        "\n"
      ],
      "metadata": {
        "id": "6M89QhfIn3Nk"
      },
      "execution_count": 31,
      "outputs": []
    },
    {
      "cell_type": "code",
      "source": [
        "#fit_n_assess_model(nmodel, model_info, data):\n",
        "nmodel = model\n",
        "#data = data_dic\n",
        "print(nmodel.summary())\n",
        "\n",
        "X_train = np.asarray(data_dic['X_train'])\n",
        "y_train = np.asarray(data_dic['y_train_s'])\n",
        "X_test = np.asarray(data_dic['X_test'])\n",
        "y_test = np.asarray(data_dic['y_test_s'])\n",
        "\n",
        "start = datetime.now()\n",
        "\n",
        "# TODO: !!!!! DONT REUSE OPTIMIZER !!!!\n",
        "\n",
        "# Compile model with MSR as the loss function and SGD as the optimizer\n",
        "nmodel.compile(loss=model_info['loss'], optimizer=\"adam\",#model_info['optimizer'],\n",
        "               metrics=[\"accuracy\"])\n",
        "\n",
        "print(\"Fit model\")\n",
        "# Fit the model with the training data from the data dictionary.\n",
        "nhist1 = nmodel.fit(x = X_train, y = y_train, epochs=model_info['epochs'],\n",
        "                    callbacks=[TimeCallback()],\n",
        "                    validation_split=0.2,)\n",
        "\n",
        "stop = datetime.now()\n",
        "model_info['tdelta'] = str(stop-start)\n",
        "print(\"Runtime: \", str(stop-start))\n",
        "\n",
        "print(\"Evaluate model\")\n",
        "model_info['test_accuracy'] = str(round(nmodel.evaluate(X_test, y_test, verbose=True)[1],4))\n",
        "print(\"Test accuracy: \",model_info['test_accuracy'])\n",
        "\n",
        "\n",
        "#plot_model_loss(model_info, nhist1.history, title=nmodel.name)\n",
        "#print(\"Loss and accuracy plots saved.\")"
      ],
      "metadata": {
        "colab": {
          "base_uri": "https://localhost:8080/",
          "height": 570
        },
        "id": "YDHawn9Cq9lW",
        "outputId": "06f4a1a5-e33a-4123-9f54-f580bd9ee8c4"
      },
      "execution_count": 34,
      "outputs": [
        {
          "output_type": "display_data",
          "data": {
            "text/plain": [
              "\u001b[1mModel: \"CNN-cmi\"\u001b[0m\n"
            ],
            "text/html": [
              "<pre style=\"white-space:pre;overflow-x:auto;line-height:normal;font-family:Menlo,'DejaVu Sans Mono',consolas,'Courier New',monospace\"><span style=\"font-weight: bold\">Model: \"CNN-cmi\"</span>\n",
              "</pre>\n"
            ]
          },
          "metadata": {}
        },
        {
          "output_type": "display_data",
          "data": {
            "text/plain": [
              "┏━━━━━━━━━━━━━━━━━━━━━━━━━━━━━━━━━┳━━━━━━━━━━━━━━━━━━━━━━━━┳━━━━━━━━━━━━━━━┓\n",
              "┃\u001b[1m \u001b[0m\u001b[1mLayer (type)                   \u001b[0m\u001b[1m \u001b[0m┃\u001b[1m \u001b[0m\u001b[1mOutput Shape          \u001b[0m\u001b[1m \u001b[0m┃\u001b[1m \u001b[0m\u001b[1m      Param #\u001b[0m\u001b[1m \u001b[0m┃\n",
              "┡━━━━━━━━━━━━━━━━━━━━━━━━━━━━━━━━━╇━━━━━━━━━━━━━━━━━━━━━━━━╇━━━━━━━━━━━━━━━┩\n",
              "│ conv2d (\u001b[38;5;33mConv2D\u001b[0m)                 │ (\u001b[38;5;45mNone\u001b[0m, \u001b[38;5;34m8\u001b[0m, \u001b[38;5;34m8\u001b[0m, \u001b[38;5;34m10\u001b[0m)       │            \u001b[38;5;34m60\u001b[0m │\n",
              "├─────────────────────────────────┼────────────────────────┼───────────────┤\n",
              "│ conv2d_1 (\u001b[38;5;33mConv2D\u001b[0m)               │ (\u001b[38;5;45mNone\u001b[0m, \u001b[38;5;34m8\u001b[0m, \u001b[38;5;34m8\u001b[0m, \u001b[38;5;34m20\u001b[0m)       │           \u001b[38;5;34m220\u001b[0m │\n",
              "├─────────────────────────────────┼────────────────────────┼───────────────┤\n",
              "│ flatten (\u001b[38;5;33mFlatten\u001b[0m)               │ (\u001b[38;5;45mNone\u001b[0m, \u001b[38;5;34m1280\u001b[0m)           │             \u001b[38;5;34m0\u001b[0m │\n",
              "├─────────────────────────────────┼────────────────────────┼───────────────┤\n",
              "│ dense_72 (\u001b[38;5;33mDense\u001b[0m)                │ (\u001b[38;5;45mNone\u001b[0m, \u001b[38;5;34m10\u001b[0m)             │        \u001b[38;5;34m12,810\u001b[0m │\n",
              "└─────────────────────────────────┴────────────────────────┴───────────────┘\n"
            ],
            "text/html": [
              "<pre style=\"white-space:pre;overflow-x:auto;line-height:normal;font-family:Menlo,'DejaVu Sans Mono',consolas,'Courier New',monospace\">┏━━━━━━━━━━━━━━━━━━━━━━━━━━━━━━━━━┳━━━━━━━━━━━━━━━━━━━━━━━━┳━━━━━━━━━━━━━━━┓\n",
              "┃<span style=\"font-weight: bold\"> Layer (type)                    </span>┃<span style=\"font-weight: bold\"> Output Shape           </span>┃<span style=\"font-weight: bold\">       Param # </span>┃\n",
              "┡━━━━━━━━━━━━━━━━━━━━━━━━━━━━━━━━━╇━━━━━━━━━━━━━━━━━━━━━━━━╇━━━━━━━━━━━━━━━┩\n",
              "│ conv2d (<span style=\"color: #0087ff; text-decoration-color: #0087ff\">Conv2D</span>)                 │ (<span style=\"color: #00d7ff; text-decoration-color: #00d7ff\">None</span>, <span style=\"color: #00af00; text-decoration-color: #00af00\">8</span>, <span style=\"color: #00af00; text-decoration-color: #00af00\">8</span>, <span style=\"color: #00af00; text-decoration-color: #00af00\">10</span>)       │            <span style=\"color: #00af00; text-decoration-color: #00af00\">60</span> │\n",
              "├─────────────────────────────────┼────────────────────────┼───────────────┤\n",
              "│ conv2d_1 (<span style=\"color: #0087ff; text-decoration-color: #0087ff\">Conv2D</span>)               │ (<span style=\"color: #00d7ff; text-decoration-color: #00d7ff\">None</span>, <span style=\"color: #00af00; text-decoration-color: #00af00\">8</span>, <span style=\"color: #00af00; text-decoration-color: #00af00\">8</span>, <span style=\"color: #00af00; text-decoration-color: #00af00\">20</span>)       │           <span style=\"color: #00af00; text-decoration-color: #00af00\">220</span> │\n",
              "├─────────────────────────────────┼────────────────────────┼───────────────┤\n",
              "│ flatten (<span style=\"color: #0087ff; text-decoration-color: #0087ff\">Flatten</span>)               │ (<span style=\"color: #00d7ff; text-decoration-color: #00d7ff\">None</span>, <span style=\"color: #00af00; text-decoration-color: #00af00\">1280</span>)           │             <span style=\"color: #00af00; text-decoration-color: #00af00\">0</span> │\n",
              "├─────────────────────────────────┼────────────────────────┼───────────────┤\n",
              "│ dense_72 (<span style=\"color: #0087ff; text-decoration-color: #0087ff\">Dense</span>)                │ (<span style=\"color: #00d7ff; text-decoration-color: #00d7ff\">None</span>, <span style=\"color: #00af00; text-decoration-color: #00af00\">10</span>)             │        <span style=\"color: #00af00; text-decoration-color: #00af00\">12,810</span> │\n",
              "└─────────────────────────────────┴────────────────────────┴───────────────┘\n",
              "</pre>\n"
            ]
          },
          "metadata": {}
        },
        {
          "output_type": "display_data",
          "data": {
            "text/plain": [
              "\u001b[1m Total params: \u001b[0m\u001b[38;5;34m13,090\u001b[0m (51.13 KB)\n"
            ],
            "text/html": [
              "<pre style=\"white-space:pre;overflow-x:auto;line-height:normal;font-family:Menlo,'DejaVu Sans Mono',consolas,'Courier New',monospace\"><span style=\"font-weight: bold\"> Total params: </span><span style=\"color: #00af00; text-decoration-color: #00af00\">13,090</span> (51.13 KB)\n",
              "</pre>\n"
            ]
          },
          "metadata": {}
        },
        {
          "output_type": "display_data",
          "data": {
            "text/plain": [
              "\u001b[1m Trainable params: \u001b[0m\u001b[38;5;34m13,090\u001b[0m (51.13 KB)\n"
            ],
            "text/html": [
              "<pre style=\"white-space:pre;overflow-x:auto;line-height:normal;font-family:Menlo,'DejaVu Sans Mono',consolas,'Courier New',monospace\"><span style=\"font-weight: bold\"> Trainable params: </span><span style=\"color: #00af00; text-decoration-color: #00af00\">13,090</span> (51.13 KB)\n",
              "</pre>\n"
            ]
          },
          "metadata": {}
        },
        {
          "output_type": "display_data",
          "data": {
            "text/plain": [
              "\u001b[1m Non-trainable params: \u001b[0m\u001b[38;5;34m0\u001b[0m (0.00 B)\n"
            ],
            "text/html": [
              "<pre style=\"white-space:pre;overflow-x:auto;line-height:normal;font-family:Menlo,'DejaVu Sans Mono',consolas,'Courier New',monospace\"><span style=\"font-weight: bold\"> Non-trainable params: </span><span style=\"color: #00af00; text-decoration-color: #00af00\">0</span> (0.00 B)\n",
              "</pre>\n"
            ]
          },
          "metadata": {}
        },
        {
          "output_type": "stream",
          "name": "stdout",
          "text": [
            "None\n",
            "Fit model\n",
            "2025-07-08 23:45:47 ---Epoch 1/5\n",
            "\u001b[1m37/37\u001b[0m \u001b[32m━━━━━━━━━━━━━━━━━━━━\u001b[0m\u001b[37m\u001b[0m \u001b[1m3s\u001b[0m 13ms/step - accuracy: 0.5907 - loss: 1.1386 - val_accuracy: 1.0000 - val_loss: 0.2348\n",
            "2025-07-08 23:45:50 ---Epoch 2/5\n",
            "\u001b[1m37/37\u001b[0m \u001b[32m━━━━━━━━━━━━━━━━━━━━\u001b[0m\u001b[37m\u001b[0m \u001b[1m0s\u001b[0m 7ms/step - accuracy: 0.7531 - loss: 0.6013 - val_accuracy: 0.9864 - val_loss: 0.3595\n",
            "2025-07-08 23:45:50 ---Epoch 3/5\n",
            "\u001b[1m37/37\u001b[0m \u001b[32m━━━━━━━━━━━━━━━━━━━━\u001b[0m\u001b[37m\u001b[0m \u001b[1m0s\u001b[0m 6ms/step - accuracy: 0.7700 - loss: 0.5330 - val_accuracy: 0.9932 - val_loss: 0.2960\n",
            "2025-07-08 23:45:50 ---Epoch 4/5\n",
            "\u001b[1m37/37\u001b[0m \u001b[32m━━━━━━━━━━━━━━━━━━━━\u001b[0m\u001b[37m\u001b[0m \u001b[1m0s\u001b[0m 10ms/step - accuracy: 0.7810 - loss: 0.4525 - val_accuracy: 0.9932 - val_loss: 0.2339\n",
            "2025-07-08 23:45:51 ---Epoch 5/5\n",
            "\u001b[1m37/37\u001b[0m \u001b[32m━━━━━━━━━━━━━━━━━━━━\u001b[0m\u001b[37m\u001b[0m \u001b[1m1s\u001b[0m 11ms/step - accuracy: 0.7905 - loss: 0.4114 - val_accuracy: 0.9898 - val_loss: 0.2412\n",
            "Runtime:  0:00:04.671936\n",
            "Evaluate model\n",
            "\u001b[1m181/181\u001b[0m \u001b[32m━━━━━━━━━━━━━━━━━━━━\u001b[0m\u001b[37m\u001b[0m \u001b[1m1s\u001b[0m 4ms/step - accuracy: 0.6414 - loss: 0.6599\n",
            "Test accuracy:  0.5832\n"
          ]
        }
      ]
    },
    {
      "cell_type": "code",
      "source": [
        "print(\"TensorFlow\", tf.__version__)\n",
        "print(\"Eager mode?\", tf.executing_eagerly())\n",
        "tensor = tf.constant([1,2,3])\n",
        "print(tensor.numpy())"
      ],
      "metadata": {
        "colab": {
          "base_uri": "https://localhost:8080/"
        },
        "id": "t3JKooiqwbYS",
        "outputId": "65dbc59d-959f-4f33-d4d1-ab74a374481b"
      },
      "execution_count": 77,
      "outputs": [
        {
          "output_type": "stream",
          "name": "stdout",
          "text": [
            "TensorFlow 2.18.0\n",
            "Eager mode? True\n",
            "[1 2 3]\n"
          ]
        }
      ]
    },
    {
      "cell_type": "code",
      "source": [
        "X_train = X_train.astype(\"float32\", copy=False)\n",
        "y_train = y_train.astype(\"float32\", copy=False)\n",
        "\n",
        "history = nmodel.fit(\n",
        "    X_train,\n",
        "    y_train,\n",
        "    epochs=model_info[\"epochs\"],\n",
        "    validation_split=0.20,\n",
        "    callbacks=[TimeCallback()],\n",
        ")"
      ],
      "metadata": {
        "colab": {
          "base_uri": "https://localhost:8080/",
          "height": 373
        },
        "id": "fQYu9RMduGHQ",
        "outputId": "f40a30ec-4c3e-418a-e70c-ada3a4ad15d5"
      },
      "execution_count": 74,
      "outputs": [
        {
          "output_type": "stream",
          "name": "stdout",
          "text": [
            "2025-07-08 15:56:34 ---Epoch 1/5\n"
          ]
        },
        {
          "output_type": "error",
          "ename": "NotImplementedError",
          "evalue": "numpy() is only available when eager execution is enabled.",
          "traceback": [
            "\u001b[0;31m---------------------------------------------------------------------------\u001b[0m",
            "\u001b[0;31mNotImplementedError\u001b[0m                       Traceback (most recent call last)",
            "\u001b[0;32m/tmp/ipython-input-74-1746654572.py\u001b[0m in \u001b[0;36m<cell line: 0>\u001b[0;34m()\u001b[0m\n\u001b[1;32m      2\u001b[0m \u001b[0my_train\u001b[0m \u001b[0;34m=\u001b[0m \u001b[0my_train\u001b[0m\u001b[0;34m.\u001b[0m\u001b[0mastype\u001b[0m\u001b[0;34m(\u001b[0m\u001b[0;34m\"float32\"\u001b[0m\u001b[0;34m,\u001b[0m \u001b[0mcopy\u001b[0m\u001b[0;34m=\u001b[0m\u001b[0;32mFalse\u001b[0m\u001b[0;34m)\u001b[0m\u001b[0;34m\u001b[0m\u001b[0;34m\u001b[0m\u001b[0m\n\u001b[1;32m      3\u001b[0m \u001b[0;34m\u001b[0m\u001b[0m\n\u001b[0;32m----> 4\u001b[0;31m history = nmodel.fit(\n\u001b[0m\u001b[1;32m      5\u001b[0m     \u001b[0mX_train\u001b[0m\u001b[0;34m,\u001b[0m\u001b[0;34m\u001b[0m\u001b[0;34m\u001b[0m\u001b[0m\n\u001b[1;32m      6\u001b[0m     \u001b[0my_train\u001b[0m\u001b[0;34m,\u001b[0m\u001b[0;34m\u001b[0m\u001b[0;34m\u001b[0m\u001b[0m\n",
            "\u001b[0;32m/usr/local/lib/python3.11/dist-packages/keras/src/utils/traceback_utils.py\u001b[0m in \u001b[0;36merror_handler\u001b[0;34m(*args, **kwargs)\u001b[0m\n\u001b[1;32m    120\u001b[0m             \u001b[0;31m# To get the full stack trace, call:\u001b[0m\u001b[0;34m\u001b[0m\u001b[0;34m\u001b[0m\u001b[0m\n\u001b[1;32m    121\u001b[0m             \u001b[0;31m# `keras.config.disable_traceback_filtering()`\u001b[0m\u001b[0;34m\u001b[0m\u001b[0;34m\u001b[0m\u001b[0m\n\u001b[0;32m--> 122\u001b[0;31m             \u001b[0;32mraise\u001b[0m \u001b[0me\u001b[0m\u001b[0;34m.\u001b[0m\u001b[0mwith_traceback\u001b[0m\u001b[0;34m(\u001b[0m\u001b[0mfiltered_tb\u001b[0m\u001b[0;34m)\u001b[0m \u001b[0;32mfrom\u001b[0m \u001b[0;32mNone\u001b[0m\u001b[0;34m\u001b[0m\u001b[0;34m\u001b[0m\u001b[0m\n\u001b[0m\u001b[1;32m    123\u001b[0m         \u001b[0;32mfinally\u001b[0m\u001b[0;34m:\u001b[0m\u001b[0;34m\u001b[0m\u001b[0;34m\u001b[0m\u001b[0m\n\u001b[1;32m    124\u001b[0m             \u001b[0;32mdel\u001b[0m \u001b[0mfiltered_tb\u001b[0m\u001b[0;34m\u001b[0m\u001b[0;34m\u001b[0m\u001b[0m\n",
            "\u001b[0;32m/usr/local/lib/python3.11/dist-packages/keras/src/backend/tensorflow/core.py\u001b[0m in \u001b[0;36mconvert_to_numpy\u001b[0;34m(x)\u001b[0m\n\u001b[1;32m    153\u001b[0m     \u001b[0;32melif\u001b[0m \u001b[0misinstance\u001b[0m\u001b[0;34m(\u001b[0m\u001b[0mx\u001b[0m\u001b[0;34m,\u001b[0m \u001b[0mtf\u001b[0m\u001b[0;34m.\u001b[0m\u001b[0mRaggedTensor\u001b[0m\u001b[0;34m)\u001b[0m\u001b[0;34m:\u001b[0m\u001b[0;34m\u001b[0m\u001b[0;34m\u001b[0m\u001b[0m\n\u001b[1;32m    154\u001b[0m         \u001b[0mx\u001b[0m \u001b[0;34m=\u001b[0m \u001b[0mx\u001b[0m\u001b[0;34m.\u001b[0m\u001b[0mto_tensor\u001b[0m\u001b[0;34m(\u001b[0m\u001b[0;34m)\u001b[0m\u001b[0;34m\u001b[0m\u001b[0;34m\u001b[0m\u001b[0m\n\u001b[0;32m--> 155\u001b[0;31m     \u001b[0;32mreturn\u001b[0m \u001b[0mnp\u001b[0m\u001b[0;34m.\u001b[0m\u001b[0marray\u001b[0m\u001b[0;34m(\u001b[0m\u001b[0mx\u001b[0m\u001b[0;34m)\u001b[0m\u001b[0;34m\u001b[0m\u001b[0;34m\u001b[0m\u001b[0m\n\u001b[0m\u001b[1;32m    156\u001b[0m \u001b[0;34m\u001b[0m\u001b[0m\n\u001b[1;32m    157\u001b[0m \u001b[0;34m\u001b[0m\u001b[0m\n",
            "\u001b[0;31mNotImplementedError\u001b[0m: numpy() is only available when eager execution is enabled."
          ]
        }
      ]
    },
    {
      "cell_type": "code",
      "source": [
        "from tensorflow import keras\n",
        "\n",
        "cnn_model = keras.models.Sequential([\n",
        "    keras.layers.Conv2D(8, (1,1),activation='relu', input_shape=(8, 8, 5)),\n",
        "    keras.layers.MaxPooling2D((2, 2)),\n",
        "    keras.layers.Flatten(),\n",
        "    keras.layers.Dense(10, activation='softmax')\n",
        "])\n",
        "\n",
        "cnn_model.compile(optimizer='adam', loss='sparse_categorical_crossentropy', metrics=['accuracy'])\n",
        "cnn_model. Summary()"
      ],
      "metadata": {
        "colab": {
          "base_uri": "https://localhost:8080/",
          "height": 176
        },
        "id": "73-H7JwwJAky",
        "outputId": "8bfbbd7f-8497-492c-df39-6380e0837ae9"
      },
      "execution_count": 4,
      "outputs": [
        {
          "output_type": "error",
          "ename": "AttributeError",
          "evalue": "'Sequential' object has no attribute 'Summary'",
          "traceback": [
            "\u001b[0;31m---------------------------------------------------------------------------\u001b[0m",
            "\u001b[0;31mAttributeError\u001b[0m                            Traceback (most recent call last)",
            "\u001b[0;32m/tmp/ipython-input-4-2506803858.py\u001b[0m in \u001b[0;36m<cell line: 0>\u001b[0;34m()\u001b[0m\n\u001b[1;32m      9\u001b[0m \u001b[0;34m\u001b[0m\u001b[0m\n\u001b[1;32m     10\u001b[0m \u001b[0mcnn_model\u001b[0m\u001b[0;34m.\u001b[0m\u001b[0mcompile\u001b[0m\u001b[0;34m(\u001b[0m\u001b[0moptimizer\u001b[0m\u001b[0;34m=\u001b[0m\u001b[0;34m'adam'\u001b[0m\u001b[0;34m,\u001b[0m \u001b[0mloss\u001b[0m\u001b[0;34m=\u001b[0m\u001b[0;34m'sparse_categorical_crossentropy'\u001b[0m\u001b[0;34m,\u001b[0m \u001b[0mmetrics\u001b[0m\u001b[0;34m=\u001b[0m\u001b[0;34m[\u001b[0m\u001b[0;34m'accuracy'\u001b[0m\u001b[0;34m]\u001b[0m\u001b[0;34m)\u001b[0m\u001b[0;34m\u001b[0m\u001b[0;34m\u001b[0m\u001b[0m\n\u001b[0;32m---> 11\u001b[0;31m \u001b[0mcnn_model\u001b[0m\u001b[0;34m.\u001b[0m \u001b[0mSummary\u001b[0m\u001b[0;34m(\u001b[0m\u001b[0;34m)\u001b[0m\u001b[0;34m\u001b[0m\u001b[0;34m\u001b[0m\u001b[0m\n\u001b[0m",
            "\u001b[0;31mAttributeError\u001b[0m: 'Sequential' object has no attribute 'Summary'"
          ]
        }
      ]
    },
    {
      "cell_type": "code",
      "source": [
        "from tensorflow.keras.models import Sequential\n",
        "from tensorflow.keras.layers import Conv2D, MaxPooling2D, Flatten, Dense, Dropout\n",
        "\n",
        "model = Sequential([\n",
        "    Conv2D(32, (3, 3), activation='relu', input_shape=(32, 32, 3)),\n",
        "    MaxPooling2D((2, 2)),\n",
        "    Conv2D(64, (3, 3), activation='relu'),\n",
        "    MaxPooling2D((2, 2)),\n",
        "    Conv2D(128, (3, 3), activation='relu'),\n",
        "    Flatten(),\n",
        "    Dense(256, activation='relu'),\n",
        "    Dropout(0.5),\n",
        "    Dense(10, activation='softmax')\n",
        "])\n",
        "\n",
        "model.compile(optimizer='adam', loss='sparse_categorical_crossentropy', metrics=['accuracy'])\n",
        "model. Summary()"
      ],
      "metadata": {
        "colab": {
          "base_uri": "https://localhost:8080/",
          "height": 176
        },
        "id": "zbCI8p4_KDCa",
        "outputId": "6dcd1004-4a53-46d5-be5d-9370b86a6bd4"
      },
      "execution_count": 5,
      "outputs": [
        {
          "output_type": "error",
          "ename": "AttributeError",
          "evalue": "'Sequential' object has no attribute 'Summary'",
          "traceback": [
            "\u001b[0;31m---------------------------------------------------------------------------\u001b[0m",
            "\u001b[0;31mAttributeError\u001b[0m                            Traceback (most recent call last)",
            "\u001b[0;32m/tmp/ipython-input-5-184968167.py\u001b[0m in \u001b[0;36m<cell line: 0>\u001b[0;34m()\u001b[0m\n\u001b[1;32m     15\u001b[0m \u001b[0;34m\u001b[0m\u001b[0m\n\u001b[1;32m     16\u001b[0m \u001b[0mmodel\u001b[0m\u001b[0;34m.\u001b[0m\u001b[0mcompile\u001b[0m\u001b[0;34m(\u001b[0m\u001b[0moptimizer\u001b[0m\u001b[0;34m=\u001b[0m\u001b[0;34m'adam'\u001b[0m\u001b[0;34m,\u001b[0m \u001b[0mloss\u001b[0m\u001b[0;34m=\u001b[0m\u001b[0;34m'sparse_categorical_crossentropy'\u001b[0m\u001b[0;34m,\u001b[0m \u001b[0mmetrics\u001b[0m\u001b[0;34m=\u001b[0m\u001b[0;34m[\u001b[0m\u001b[0;34m'accuracy'\u001b[0m\u001b[0;34m]\u001b[0m\u001b[0;34m)\u001b[0m\u001b[0;34m\u001b[0m\u001b[0;34m\u001b[0m\u001b[0m\n\u001b[0;32m---> 17\u001b[0;31m \u001b[0mmodel\u001b[0m\u001b[0;34m.\u001b[0m \u001b[0mSummary\u001b[0m\u001b[0;34m(\u001b[0m\u001b[0;34m)\u001b[0m\u001b[0;34m\u001b[0m\u001b[0;34m\u001b[0m\u001b[0m\n\u001b[0m",
            "\u001b[0;31mAttributeError\u001b[0m: 'Sequential' object has no attribute 'Summary'"
          ]
        }
      ]
    },
    {
      "cell_type": "markdown",
      "source": [
        "## Evaluation:\n",
        "- F1 score"
      ],
      "metadata": {
        "id": "sLit_0Bxqxo_"
      }
    },
    {
      "cell_type": "code",
      "source": [
        "from sklearn.metrics import f1_score\n",
        "\n",
        "binary_arr = y_test[\"target\"].gt(0.5).to_numpy()\n",
        "y_pred_bin = (lr_model.predict(data_dic['X_test']) >= 0.5)\n",
        "\n",
        "# Compute binary F1 (Target vs Non-Target)\n",
        "# y_true_bin = sol['gesture'].isin(self.target_gestures).values\n",
        "# y_pred_bin = sub['gesture'].isin(self.target_gestures).values\n",
        "f1_binary = f1_score(\n",
        "    binary_arr,\n",
        "    y_pred_bin,\n",
        "    pos_label=1,\n",
        "    zero_division=0,\n",
        "    average='binary'\n",
        ")\n",
        "print(f1_binary)"
      ],
      "metadata": {
        "id": "viNY8mmEqu5s"
      },
      "execution_count": null,
      "outputs": []
    }
  ]
}